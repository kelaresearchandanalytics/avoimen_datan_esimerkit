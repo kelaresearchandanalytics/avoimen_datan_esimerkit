{
 "cells": [
  {
   "cell_type": "code",
   "execution_count": 1,
   "metadata": {},
   "outputs": [],
   "source": [
    "from ckanapi import RemoteCKAN\n",
    "import json\n",
    "import pandas as pd\n",
    "import numpy as np\n",
    "import matplotlib.pyplot as plt\n",
    "from urllib.request import urlopen\n",
    "from pandas.io.json import json_normalize\n",
    "\n",
    "ua = 'avoindata_ckanapi_example/1.0 ({0})'\n",
    "ckan = RemoteCKAN('https://beta.avoindata.fi/data/fi/', user_agent=ua)\n",
    "packages = ckan.action.package_search(q='Kansaneläkelaitos', fq = 'title:yleisen')\n",
    "resources = packages['results'][0]['resources'] \n",
    "url_csv = resources[0]['url']\n",
    "url_json = resources[1]['url']\n",
    "dat = pd.read_csv(url_csv, sep = ';', decimal = ',')"
   ]
  },
  {
   "cell_type": "code",
   "execution_count": 2,
   "metadata": {},
   "outputs": [],
   "source": [
    "response = urlopen(url_json)\n",
    "meta = json.loads(response.read())"
   ]
  },
  {
   "cell_type": "markdown",
   "metadata": {},
   "source": [
    "## Datan ja metadatan kuvailu\n",
    "\n",
    "**Datan kuvaustieto**"
   ]
  },
  {
   "cell_type": "code",
   "execution_count": 3,
   "metadata": {},
   "outputs": [
    {
     "name": "stdout",
     "output_type": "stream",
     "text": [
      "Yleistä asumistukea saaneet ruokakunnat tilastointikuukauden aikana sekä heidän keskimääräinen asumistuki, asumismenot ja asumistukitulot kuukaudessa. Raportille on laskettu ruokakunnan asumismenojen osuus asumistukeen vaikuttaneista tuloista ennen asumistukea sekä asumistuen jälkeen. Lisäksi raportilla on tiedot yleisen asumistuen saajien keskimääräisestä asunnon pinta-alasta ja asumismenoista pinta-alaneliötä kohden. Ruokakunnan elämäntilanne on päätelty vuoden 2015 tiedoista alkaen ruokakunnan tulojen mukaan ja yksi ruokakunta tilastoituu aina yhteen elämäntilanneluokkaan. Vuosien 2007–2014 tiedoissa ruokakunnan elämäntilanne on päätelty erikseen hakijan ja puolison tulojen mukaan, ja sama ruokakunta voi tilastoitua kahteen eri elämäntilanneluokkaan.\n"
     ]
    }
   ],
   "source": [
    "print(meta['description'])"
   ]
  },
  {
   "cell_type": "markdown",
   "metadata": {},
   "source": [
    "**Datan muuttujatieto**"
   ]
  },
  {
   "cell_type": "code",
   "execution_count": 4,
   "metadata": {},
   "outputs": [
    {
     "data": {
      "text/html": [
       "<div>\n",
       "<style scoped>\n",
       "    .dataframe tbody tr th:only-of-type {\n",
       "        vertical-align: middle;\n",
       "    }\n",
       "\n",
       "    .dataframe tbody tr th {\n",
       "        vertical-align: top;\n",
       "    }\n",
       "\n",
       "    .dataframe thead th {\n",
       "        text-align: right;\n",
       "    }\n",
       "</style>\n",
       "<table border=\"1\" class=\"dataframe\">\n",
       "  <thead>\n",
       "    <tr style=\"text-align: right;\">\n",
       "      <th></th>\n",
       "      <th>format</th>\n",
       "      <th>name</th>\n",
       "      <th>type</th>\n",
       "      <th>values</th>\n",
       "    </tr>\n",
       "  </thead>\n",
       "  <tbody>\n",
       "    <tr>\n",
       "      <th>0</th>\n",
       "      <td>default</td>\n",
       "      <td>kuntanumero</td>\n",
       "      <td>integer</td>\n",
       "      <td>[5, 9, 10, 16, 18, 19, 20, 35, 43, 46, 47, 49,...</td>\n",
       "    </tr>\n",
       "    <tr>\n",
       "      <th>1</th>\n",
       "      <td>default</td>\n",
       "      <td>kunta</td>\n",
       "      <td>string</td>\n",
       "      <td>[Alajärvi, Alavieska, Alavus, Asikkala, Askola...</td>\n",
       "    </tr>\n",
       "    <tr>\n",
       "      <th>2</th>\n",
       "      <td>default</td>\n",
       "      <td>aikajakso</td>\n",
       "      <td>string</td>\n",
       "      <td>[vuosi, kuukausi]</td>\n",
       "    </tr>\n",
       "    <tr>\n",
       "      <th>3</th>\n",
       "      <td>default</td>\n",
       "      <td>ruokakuntatyyppi</td>\n",
       "      <td>string</td>\n",
       "      <td>[Yhteensä, Yksin asuvat, Lapsettomat parit, La...</td>\n",
       "    </tr>\n",
       "    <tr>\n",
       "      <th>4</th>\n",
       "      <td>default</td>\n",
       "      <td>saajaruokakunnat</td>\n",
       "      <td>number</td>\n",
       "      <td>[4, 65241]</td>\n",
       "    </tr>\n",
       "    <tr>\n",
       "      <th>5</th>\n",
       "      <td>default</td>\n",
       "      <td>asumistuki_keskim_euroa_kk</td>\n",
       "      <td>number</td>\n",
       "      <td>[64.8, 696.41]</td>\n",
       "    </tr>\n",
       "    <tr>\n",
       "      <th>6</th>\n",
       "      <td>default</td>\n",
       "      <td>asumismenot_keskim_euroa_kk</td>\n",
       "      <td>number</td>\n",
       "      <td>[180.48, 1170.13]</td>\n",
       "    </tr>\n",
       "    <tr>\n",
       "      <th>7</th>\n",
       "      <td>default</td>\n",
       "      <td>asumistukitulo_keskim_euroa_kk</td>\n",
       "      <td>number</td>\n",
       "      <td>[116.8, 3549.6]</td>\n",
       "    </tr>\n",
       "    <tr>\n",
       "      <th>8</th>\n",
       "      <td>default</td>\n",
       "      <td>asumismenot_ennen_asumistukea_pros</td>\n",
       "      <td>number</td>\n",
       "      <td>[16, 246.5]</td>\n",
       "    </tr>\n",
       "    <tr>\n",
       "      <th>9</th>\n",
       "      <td>default</td>\n",
       "      <td>asumismenot_asumistuen_jalkeen_pros</td>\n",
       "      <td>number</td>\n",
       "      <td>[7.1, 167.6]</td>\n",
       "    </tr>\n",
       "    <tr>\n",
       "      <th>10</th>\n",
       "      <td>default</td>\n",
       "      <td>asumismenot_keskim_e_m2_kk</td>\n",
       "      <td>number</td>\n",
       "      <td>[2.2, 17.5]</td>\n",
       "    </tr>\n",
       "    <tr>\n",
       "      <th>11</th>\n",
       "      <td>default</td>\n",
       "      <td>asunnon_keskim_pintaala_m2_asunto</td>\n",
       "      <td>number</td>\n",
       "      <td>[23.5, 191.3]</td>\n",
       "    </tr>\n",
       "    <tr>\n",
       "      <th>12</th>\n",
       "      <td>default</td>\n",
       "      <td>vuosi</td>\n",
       "      <td>integer</td>\n",
       "      <td>[2007, 2008, 2009, 2010, 2011, 2012, 2013, 201...</td>\n",
       "    </tr>\n",
       "    <tr>\n",
       "      <th>13</th>\n",
       "      <td>default</td>\n",
       "      <td>kuukausi</td>\n",
       "      <td>integer</td>\n",
       "      <td>[NA, 1, 2, 3, 4, 5, 6, 7, 8, 9, 10, 11, 12]</td>\n",
       "    </tr>\n",
       "  </tbody>\n",
       "</table>\n",
       "</div>"
      ],
      "text/plain": [
       "     format                                 name     type  \\\n",
       "0   default                          kuntanumero  integer   \n",
       "1   default                                kunta   string   \n",
       "2   default                            aikajakso   string   \n",
       "3   default                     ruokakuntatyyppi   string   \n",
       "4   default                     saajaruokakunnat   number   \n",
       "5   default           asumistuki_keskim_euroa_kk   number   \n",
       "6   default          asumismenot_keskim_euroa_kk   number   \n",
       "7   default       asumistukitulo_keskim_euroa_kk   number   \n",
       "8   default   asumismenot_ennen_asumistukea_pros   number   \n",
       "9   default  asumismenot_asumistuen_jalkeen_pros   number   \n",
       "10  default           asumismenot_keskim_e_m2_kk   number   \n",
       "11  default    asunnon_keskim_pintaala_m2_asunto   number   \n",
       "12  default                                vuosi  integer   \n",
       "13  default                             kuukausi  integer   \n",
       "\n",
       "                                               values  \n",
       "0   [5, 9, 10, 16, 18, 19, 20, 35, 43, 46, 47, 49,...  \n",
       "1   [Alajärvi, Alavieska, Alavus, Asikkala, Askola...  \n",
       "2                                   [vuosi, kuukausi]  \n",
       "3   [Yhteensä, Yksin asuvat, Lapsettomat parit, La...  \n",
       "4                                          [4, 65241]  \n",
       "5                                      [64.8, 696.41]  \n",
       "6                                   [180.48, 1170.13]  \n",
       "7                                     [116.8, 3549.6]  \n",
       "8                                         [16, 246.5]  \n",
       "9                                        [7.1, 167.6]  \n",
       "10                                        [2.2, 17.5]  \n",
       "11                                      [23.5, 191.3]  \n",
       "12  [2007, 2008, 2009, 2010, 2011, 2012, 2013, 201...  \n",
       "13        [NA, 1, 2, 3, 4, 5, 6, 7, 8, 9, 10, 11, 12]  "
      ]
     },
     "execution_count": 4,
     "metadata": {},
     "output_type": "execute_result"
    }
   ],
   "source": [
    "json_normalize(meta['resources'][0]['schema']['fields'])"
   ]
  },
  {
   "cell_type": "markdown",
   "metadata": {},
   "source": [
    "**Datan ensimmäiset rivit**"
   ]
  },
  {
   "cell_type": "code",
   "execution_count": 5,
   "metadata": {},
   "outputs": [
    {
     "name": "stdout",
     "output_type": "stream",
     "text": [
      "   kuntanumero      kunta aikajakso ruokakuntatyyppi  saajaruokakunnat  \\\n",
      "0            5   Alajärvi     vuosi         Yhteensä             131.0   \n",
      "1            9  Alavieska     vuosi         Yhteensä              34.0   \n",
      "2           10     Alavus     vuosi         Yhteensä             163.0   \n",
      "3           16   Asikkala     vuosi         Yhteensä             103.0   \n",
      "4           18     Askola     vuosi         Yhteensä              18.0   \n",
      "\n",
      "   asumistuki_keskim_euroa_kk  asumismenot_keskim_euroa_kk  \\\n",
      "0                      204.65                       401.81   \n",
      "1                      168.84                       389.82   \n",
      "2                      203.18                       407.83   \n",
      "3                      210.84                       399.29   \n",
      "4                      205.24                       406.06   \n",
      "\n",
      "   asumistukitulo_keskim_euroa_kk  asumismenot_ennen_asumistukea_pros  \\\n",
      "0                          789.32                                50.9   \n",
      "1                          826.00                                47.2   \n",
      "2                          799.71                                51.0   \n",
      "3                          699.76                                57.1   \n",
      "4                          671.67                                60.5   \n",
      "\n",
      "   asumismenot_asumistuen_jalkeen_pros  asumismenot_keskim_e_m2_kk  \\\n",
      "0                                 25.0                         5.4   \n",
      "1                                 26.8                         5.9   \n",
      "2                                 25.6                         6.2   \n",
      "3                                 26.9                         6.7   \n",
      "4                                 29.9                         5.5   \n",
      "\n",
      "   asunnon_keskim_pintaala_m2_asunto  vuosi  kuukausi  \n",
      "0                               74.1   2007       NaN  \n",
      "1                               65.8   2007       NaN  \n",
      "2                               66.0   2007       NaN  \n",
      "3                               59.5   2007       NaN  \n",
      "4                               73.6   2007       NaN  \n"
     ]
    }
   ],
   "source": [
    "print(dat.head())"
   ]
  },
  {
   "cell_type": "code",
   "execution_count": 7,
   "metadata": {},
   "outputs": [],
   "source": [
    "plotdat = (dat\n",
    " .query('aikajakso == \"vuosi\"')\n",
    " .query('vuosi == \"2015\"')\n",
    " .query('ruokakuntatyyppi == \"Yhteensä\"')\n",
    " .sort_values(by='asumistuki_keskim_euroa_kk', ascending=False)\n",
    " .head(20))\n",
    "\n",
    "#plt.bar(plotdat, height = )"
   ]
  },
  {
   "cell_type": "markdown",
   "metadata": {},
   "source": [
    "## Kuvio"
   ]
  },
  {
   "cell_type": "code",
   "execution_count": 8,
   "metadata": {},
   "outputs": [
    {
     "data": {
      "text/plain": [
       "<BarContainer object of 20 artists>"
      ]
     },
     "execution_count": 8,
     "metadata": {},
     "output_type": "execute_result"
    },
    {
     "data": {
      "image/png": "[encoded data removed]",
      "text/plain": [
       "<Figure size 432x288 with 1 Axes>"
      ]
     },
     "metadata": {
      "needs_background": "light"
     },
     "output_type": "display_data"
    }
   ],
   "source": [
    "plt.bar(plotdat['kunta'], plotdat['asumistuki_keskim_euroa_kk'])"
   ]
  },
  {
   "cell_type": "markdown",
   "metadata": {},
   "source": [
    "## Datastore-api\n",
    "\n",
    "Jos et tarvitse koko aineistoa, voit suodattaa siitä osio SQL:llä käyttäen CKAN:n DataStore-rajapintaa.\n",
    "\n",
    "Alla olevassa esimerkissä tehdään rajaus `kunta`-muuttujasta ja siis etsitään vaan kuntaa *Veteli* koskevat tiedot."
   ]
  },
  {
   "cell_type": "code",
   "execution_count": 9,
   "metadata": {},
   "outputs": [
    {
     "name": "stdout",
     "output_type": "stream",
     "text": [
      "                                          _full_text  _id aikajakso  \\\n",
      "0  '0':15 '1':19 '131':5 '2007':20 '204':6 '25':1...    1     vuosi   \n",
      "1  '00':11 '168':6 '2':13 '2007':20 '26':14 '34':...    2     vuosi   \n",
      "2  '0':13,19 '10':1 '163':5 '18':7 '2':17 '2007':...    3     vuosi   \n",
      "3  '1':13 '103':5 '16':1 '2007':20 '210':6 '26':1...    4     vuosi   \n",
      "4  '06':9 '18':1,5 '2007':20 '205':6 '24':7 '29':...    5     vuosi   \n",
      "\n",
      "  asumismenot_asumistuen_jalkeen_pros asumismenot_ennen_asumistukea_pros  \\\n",
      "0                                25,0                               50,9   \n",
      "1                                26,8                               47,2   \n",
      "2                                25,6                               51,0   \n",
      "3                                26,9                               57,1   \n",
      "4                                29,9                               60,5   \n",
      "\n",
      "  asumismenot_keskim_e_m2_kk asumismenot_keskim_euroa_kk  \\\n",
      "0                        5,4                      401,81   \n",
      "1                        5,9                      389,82   \n",
      "2                        6,2                      407,83   \n",
      "3                        6,7                      399,29   \n",
      "4                        5,5                      406,06   \n",
      "\n",
      "  asumistuki_keskim_euroa_kk asumistukitulo_keskim_euroa_kk  \\\n",
      "0                     204,65                         789,32   \n",
      "1                     168,84                         826,00   \n",
      "2                     203,18                         799,71   \n",
      "3                     210,84                         699,76   \n",
      "4                     205,24                         671,67   \n",
      "\n",
      "  asunnon_keskim_pintaala_m2_asunto      kunta kuntanumero kuukausi  \\\n",
      "0                              74,1   Alajärvi           5       NA   \n",
      "1                              65,8  Alavieska           9       NA   \n",
      "2                              66,0     Alavus          10       NA   \n",
      "3                              59,5   Asikkala          16       NA   \n",
      "4                              73,6     Askola          18       NA   \n",
      "\n",
      "  ruokakuntatyyppi saajaruokakunnat vuosi  \n",
      "0         Yhteensä              131  2007  \n",
      "1         Yhteensä               34  2007  \n",
      "2         Yhteensä              163  2007  \n",
      "3         Yhteensä              103  2007  \n",
      "4         Yhteensä               18  2007  \n"
     ]
    }
   ],
   "source": [
    "kunta = \"Veteli\"\n",
    "taulu = resources[0]['id']\n",
    "muuttuja = 'kunta'\n",
    "urli = f'https://beta.avoindata.fi/data/fi/data/api/3/action/datastore_search_sql?sql=SELECT * from \"{taulu}\" WHERE {muuttuja} LIKE \\'{kunta}\\''\n",
    "urli_plain = f'https://beta.avoindata.fi/data/fi/data/api/3/action/datastore_search_sql?sql=SELECT * from \"{taulu}\"'\n",
    "#urli = \"https://beta.avoindata.fi/data/fi/data/api/3/action/datastore_search_sql?sql=SELECT * from \\\"%s\\\" WHERE %s LIKE '%s'\" % (taulu, muuttuja, kunta)\n",
    "#urli_plain = \"https://beta.avoindata.fi/data/fi/data/api/3/action/datastore_search_sql?sql=SELECT * from \\\"%s\\\"\" % (taulu)\n",
    "response = urlopen(urli_plain)\n",
    "da = json.loads(response.read())\n",
    "dataa = json_normalize(da['result']['records'])\n",
    "#dataa\n",
    "print(dataa.head())"
   ]
  },
  {
   "cell_type": "code",
   "execution_count": null,
   "metadata": {},
   "outputs": [],
   "source": []
  }
 ],
 "metadata": {
  "kernelspec": {
   "display_name": "Python 3",
   "language": "python",
   "name": "python3"
  },
  "language_info": {
   "codemirror_mode": {
    "name": "ipython",
    "version": 3
   },
   "file_extension": ".py",
   "mimetype": "text/x-python",
   "name": "python",
   "nbconvert_exporter": "python",
   "pygments_lexer": "ipython3",
   "version": "3.6.8"
  }
 },
 "nbformat": 4,
 "nbformat_minor": 2
}
