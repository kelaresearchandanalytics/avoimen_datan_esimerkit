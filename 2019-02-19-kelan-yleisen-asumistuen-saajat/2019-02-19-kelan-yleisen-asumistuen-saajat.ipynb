{
 "cells": [
  {
   "cell_type": "code",
   "execution_count": null,
   "metadata": {},
   "outputs": [],
   "source": [
    "\n",
    "| pvm         | data        | tekijä   |\n",
    "| ---------   | -------     | -------- |\n",
    "| 2019-02-19  | [Yleisen asumistuen saajaruokakunnat, keskimääräiset tuet, asumismenot ja ruokakunnan tulot](https://beta.avoindata.fi/data/fi/dataset/kelan-yleisen-asumistuen-saajat) | Markus Kainu |\n",
    " \n",
    "# Käyttöesimerkkejä: Yleisen asumistuen saajaruokakunnat, keskimääräiset tuet, asumismenot ja ruokakunnan tulot\n",
    "\n",
    "## Resurssien lataaminen"
   ]
  },
  {
   "cell_type": "code",
   "execution_count": 1,
   "metadata": {},
   "outputs": [],
   "source": [
    "from ckanapi import RemoteCKAN\n",
    "import json\n",
    "import pandas as pd\n",
    "import numpy as np\n",
    "import matplotlib.pyplot as plt\n",
    "from urllib.request import urlopen\n",
    "from pandas.io.json import json_normalize\n",
    "\n",
    "ua = 'avoindata_ckanapi_example/1.0 ({0})'\n",
    "ckan = RemoteCKAN('https://beta.avoindata.fi/data/fi/', user_agent=ua)\n",
    "packages = ckan.action.package_search(q='Kansaneläkelaitos', fq = 'title:yleisen')\n",
    "resources = packages['results'][0]['resources'] \n",
    "url_csv = resources[0]['url']\n",
    "url_json = resources[1]['url']\n",
    "dat = pd.read_csv(url_csv, sep = ';', decimal = ',')"
   ]
  },
  {
   "cell_type": "code",
   "execution_count": 2,
   "metadata": {},
   "outputs": [],
   "source": [
    "response = urlopen(url_json)\n",
    "meta = json.loads(response.read())"
   ]
  },
  {
   "cell_type": "markdown",
   "metadata": {},
   "source": [
    "## Datan ja metadatan kuvailu\n",
    "\n",
    "**Datan kuvaustieto**"
   ]
  },
  {
   "cell_type": "code",
   "execution_count": 5,
   "metadata": {},
   "outputs": [
    {
     "name": "stdout",
     "output_type": "stream",
     "text": [
      "Yleistä asumistukea saaneet ruokakunnat tilastointikuukauden aikana sekä heidän keskimääräinen asumistuki, asumismenot ja asumistukitulot kuukaudessa. Raportille on laskettu ruokakunnan asumismenojen osuus asumistukeen vaikuttaneista tuloista ennen asumistukea sekä asumistuen jälkeen. Lisäksi raportilla on tiedot yleisen asumistuen saajien keskimääräisestä asunnon pinta-alasta ja asumismenoista pinta-alaneliötä kohden. Ruokakunnan elämäntilanne on päätelty vuoden 2015 tiedoista alkaen ruokakunnan tulojen mukaan ja yksi ruokakunta tilastoituu aina yhteen elämäntilanneluokkaan. Vuosien 2007–2014 tiedoissa ruokakunnan elämäntilanne on päätelty erikseen hakijan ja puolison tulojen mukaan, ja sama ruokakunta voi tilastoitua kahteen eri elämäntilanneluokkaan.\n"
     ]
    }
   ],
   "source": [
    "print(meta['description'])"
   ]
  },
  {
   "cell_type": "markdown",
   "metadata": {},
   "source": [
    "**Datan muuttujatieto**"
   ]
  },
  {
   "cell_type": "code",
   "execution_count": 6,
   "metadata": {},
   "outputs": [
    {
     "data": {
      "text/html": [
       "<div>\n",
       "<style scoped>\n",
       "    .dataframe tbody tr th:only-of-type {\n",
       "        vertical-align: middle;\n",
       "    }\n",
       "\n",
       "    .dataframe tbody tr th {\n",
       "        vertical-align: top;\n",
       "    }\n",
       "\n",
       "    .dataframe thead th {\n",
       "        text-align: right;\n",
       "    }\n",
       "</style>\n",
       "<table border=\"1\" class=\"dataframe\">\n",
       "  <thead>\n",
       "    <tr style=\"text-align: right;\">\n",
       "      <th></th>\n",
       "      <th>format</th>\n",
       "      <th>name</th>\n",
       "      <th>title</th>\n",
       "      <th>type</th>\n",
       "    </tr>\n",
       "  </thead>\n",
       "  <tbody>\n",
       "    <tr>\n",
       "      <th>0</th>\n",
       "      <td>default</td>\n",
       "      <td>kunta</td>\n",
       "      <td>Kuntanimi eli tekstiä</td>\n",
       "      <td>string</td>\n",
       "    </tr>\n",
       "    <tr>\n",
       "      <th>1</th>\n",
       "      <td>default</td>\n",
       "      <td>vuosi</td>\n",
       "      <td>Vuosi on kokonaisluku</td>\n",
       "      <td>integer</td>\n",
       "    </tr>\n",
       "    <tr>\n",
       "      <th>2</th>\n",
       "      <td>default</td>\n",
       "      <td>ruokakuntatyyppi</td>\n",
       "      <td>Ruokakuntatyyppi on tekstiä</td>\n",
       "      <td>string</td>\n",
       "    </tr>\n",
       "    <tr>\n",
       "      <th>3</th>\n",
       "      <td>default</td>\n",
       "      <td>saajaruokakunnat</td>\n",
       "      <td>Saajaruokakuntien määrä on kokonaisluku</td>\n",
       "      <td>integer</td>\n",
       "    </tr>\n",
       "    <tr>\n",
       "      <th>4</th>\n",
       "      <td>default</td>\n",
       "      <td>asumistuki_keskim_euroa_kk</td>\n",
       "      <td>Euromääräinen eli numeric R:ssä ja float Pytho...</td>\n",
       "      <td>number</td>\n",
       "    </tr>\n",
       "    <tr>\n",
       "      <th>5</th>\n",
       "      <td>default</td>\n",
       "      <td>asumismenot_keskim_euroa_kk</td>\n",
       "      <td>Euroja eli numeric</td>\n",
       "      <td>number</td>\n",
       "    </tr>\n",
       "    <tr>\n",
       "      <th>6</th>\n",
       "      <td>default</td>\n",
       "      <td>asumistukitulo_keskim_euroa_kk</td>\n",
       "      <td>Euroja eli numeric</td>\n",
       "      <td>number</td>\n",
       "    </tr>\n",
       "    <tr>\n",
       "      <th>7</th>\n",
       "      <td>default</td>\n",
       "      <td>asumismenot_ennen_asumistukea_pros</td>\n",
       "      <td>Prosenttia eli numeric</td>\n",
       "      <td>number</td>\n",
       "    </tr>\n",
       "    <tr>\n",
       "      <th>8</th>\n",
       "      <td>default</td>\n",
       "      <td>asumismenot_asumistuen_jalkeen_pros</td>\n",
       "      <td>Prosenttia eli numeric</td>\n",
       "      <td>number</td>\n",
       "    </tr>\n",
       "    <tr>\n",
       "      <th>9</th>\n",
       "      <td>default</td>\n",
       "      <td>asumismenot_keskim_e_m2_kk</td>\n",
       "      <td>Euroja eli numeric</td>\n",
       "      <td>number</td>\n",
       "    </tr>\n",
       "    <tr>\n",
       "      <th>10</th>\n",
       "      <td>default</td>\n",
       "      <td>asunnon_keskim_pintaala_m2_asunto</td>\n",
       "      <td>Neliömetrejä eli numeric</td>\n",
       "      <td>number</td>\n",
       "    </tr>\n",
       "  </tbody>\n",
       "</table>\n",
       "</div>"
      ],
      "text/plain": [
       "     format                                 name  \\\n",
       "0   default                                kunta   \n",
       "1   default                                vuosi   \n",
       "2   default                     ruokakuntatyyppi   \n",
       "3   default                     saajaruokakunnat   \n",
       "4   default           asumistuki_keskim_euroa_kk   \n",
       "5   default          asumismenot_keskim_euroa_kk   \n",
       "6   default       asumistukitulo_keskim_euroa_kk   \n",
       "7   default   asumismenot_ennen_asumistukea_pros   \n",
       "8   default  asumismenot_asumistuen_jalkeen_pros   \n",
       "9   default           asumismenot_keskim_e_m2_kk   \n",
       "10  default    asunnon_keskim_pintaala_m2_asunto   \n",
       "\n",
       "                                                title     type  \n",
       "0                               Kuntanimi eli tekstiä   string  \n",
       "1                               Vuosi on kokonaisluku  integer  \n",
       "2                         Ruokakuntatyyppi on tekstiä   string  \n",
       "3             Saajaruokakuntien määrä on kokonaisluku  integer  \n",
       "4   Euromääräinen eli numeric R:ssä ja float Pytho...   number  \n",
       "5                                  Euroja eli numeric   number  \n",
       "6                                  Euroja eli numeric   number  \n",
       "7                              Prosenttia eli numeric   number  \n",
       "8                              Prosenttia eli numeric   number  \n",
       "9                                  Euroja eli numeric   number  \n",
       "10                           Neliömetrejä eli numeric   number  "
      ]
     },
     "execution_count": 6,
     "metadata": {},
     "output_type": "execute_result"
    }
   ],
   "source": [
    "json_normalize(meta['resources'][0]['schema']['fields'])"
   ]
  },
  {
   "cell_type": "markdown",
   "metadata": {},
   "source": [
    "**Datan ensimmäiset rivit**"
   ]
  },
  {
   "cell_type": "code",
   "execution_count": 7,
   "metadata": {},
   "outputs": [
    {
     "name": "stdout",
     "output_type": "stream",
     "text": [
      "  kunta  vuosi          ruokakuntatyyppi  saajaruokakunnat  \\\n",
      "0  Akaa   2018                  Yhteensä             604.0   \n",
      "1  Akaa   2018              Yksin asuvat             379.0   \n",
      "2  Akaa   2018         Lapsettomat parit              27.0   \n",
      "3  Akaa   2018     Lapsiperheet yhteensä             184.0   \n",
      "4  Akaa   2018  Kahden huoltajan perheet              38.0   \n",
      "\n",
      "   asumistuki_keskim_euroa_kk  asumismenot_keskim_euroa_kk  \\\n",
      "0                    279.6358                     541.5889   \n",
      "1                    233.7341                     450.0426   \n",
      "2                    268.8667                     600.0330   \n",
      "3                    378.4205                     719.4155   \n",
      "4                    387.5579                     851.2903   \n",
      "\n",
      "   asumistukitulo_keskim_euroa_kk  asumismenot_ennen_asumistukea_pros  \\\n",
      "0                        966.7248                              56.023   \n",
      "1                        671.6300                              67.008   \n",
      "2                       1209.0970                              49.627   \n",
      "3                       1516.7695                              47.431   \n",
      "4                       2307.6629                              36.890   \n",
      "\n",
      "   asumismenot_asumistuen_jalkeen_pros  asumismenot_keskim_e_m2_kk  \\\n",
      "0                               27.097                      9.1049   \n",
      "1                               32.207                      9.4712   \n",
      "2                               27.390                      9.5468   \n",
      "3                               22.482                      8.6399   \n",
      "4                               20.095                      8.7905   \n",
      "\n",
      "   asunnon_keskim_pintaala_m2_asunto  \n",
      "0                             59.483  \n",
      "1                             47.517  \n",
      "2                             62.852  \n",
      "3                             83.266  \n",
      "4                             96.842  \n"
     ]
    }
   ],
   "source": [
    "print(dat.head())"
   ]
  },
  {
   "cell_type": "code",
   "execution_count": 8,
   "metadata": {},
   "outputs": [],
   "source": [
    "plotdat = (dat\n",
    " .query('vuosi == 2018')\n",
    " .query('ruokakuntatyyppi == \"Yhteensä\"')\n",
    " .sort_values(by='asumistuki_keskim_euroa_kk', ascending=False)\n",
    " .head(20))\n",
    "\n",
    "#plt.bar(plotdat, height = )"
   ]
  },
  {
   "cell_type": "markdown",
   "metadata": {},
   "source": [
    "## Kuvio"
   ]
  },
  {
   "cell_type": "code",
   "execution_count": 9,
   "metadata": {},
   "outputs": [
    {
     "data": {
      "text/plain": [
       "<BarContainer object of 20 artists>"
      ]
     },
     "execution_count": 9,
     "metadata": {},
     "output_type": "execute_result"
    },
    {
     "data": {
      "image/png": "[encoded data removed]",
      "text/plain": [
       "<Figure size 432x288 with 1 Axes>"
      ]
     },
     "metadata": {
      "needs_background": "light"
     },
     "output_type": "display_data"
    }
   ],
   "source": [
    "plt.bar(plotdat['kunta'], plotdat['asumistuki_keskim_euroa_kk'])"
   ]
  },
  {
   "cell_type": "markdown",
   "metadata": {},
   "source": [
    "## Datastore-api\n",
    "\n",
    "Jos et tarvitse koko aineistoa, voit suodattaa siitä osio SQL:llä käyttäen CKAN:n DataStore-rajapintaa.\n",
    "\n",
    "Alla olevassa esimerkissä tehdään rajaus `kunta`-muuttujasta ja siis etsitään vaan kuntaa *Veteli* koskevat tiedot."
   ]
  },
  {
   "cell_type": "code",
   "execution_count": 10,
   "metadata": {},
   "outputs": [
    {
     "name": "stdout",
     "output_type": "stream",
     "text": [
      "                                          _full_text  _id  \\\n",
      "0  '023':12 '097':14 '1049':16 '2018':2 '27':13 '...    1   \n",
      "1  '008':13 '0426':9 '2018':2 '207':15 '233':6 '3...    2   \n",
      "2  '0330':9 '0970':11 '1209':10 '2018':2 '268':6 ...    3   \n",
      "3  '1516':10 '184':5 '2018':2 '22':14 '266':19 '3...    4   \n",
      "4  '095':16 '20':15 '2018':2 '2307':11 '2903':10 ...    5   \n",
      "\n",
      "  asumismenot_asumistuen_jalkeen_pros asumismenot_ennen_asumistukea_pros  \\\n",
      "0                              27,097                             56,023   \n",
      "1                              32,207                             67,008   \n",
      "2                              27,390                             49,627   \n",
      "3                              22,482                             47,431   \n",
      "4                              20,095                             36,890   \n",
      "\n",
      "  asumismenot_keskim_e_m2_kk asumismenot_keskim_euroa_kk  \\\n",
      "0                     9,1049                    541,5889   \n",
      "1                     9,4712                    450,0426   \n",
      "2                     9,5468                    600,0330   \n",
      "3                     8,6399                    719,4155   \n",
      "4                     8,7905                    851,2903   \n",
      "\n",
      "  asumistuki_keskim_euroa_kk asumistukitulo_keskim_euroa_kk  \\\n",
      "0                   279,6358                       966,7248   \n",
      "1                   233,7341                       671,6300   \n",
      "2                   268,8667                      1209,0970   \n",
      "3                   378,4205                      1516,7695   \n",
      "4                   387,5579                      2307,6629   \n",
      "\n",
      "  asunnon_keskim_pintaala_m2_asunto kunta          ruokakuntatyyppi  \\\n",
      "0                            59,483  Akaa                  Yhteensä   \n",
      "1                            47,517  Akaa              Yksin asuvat   \n",
      "2                            62,852  Akaa         Lapsettomat parit   \n",
      "3                            83,266  Akaa     Lapsiperheet yhteensä   \n",
      "4                            96,842  Akaa  Kahden huoltajan perheet   \n",
      "\n",
      "  saajaruokakunnat vuosi  \n",
      "0              604  2018  \n",
      "1              379  2018  \n",
      "2               27  2018  \n",
      "3              184  2018  \n",
      "4               38  2018  \n"
     ]
    }
   ],
   "source": [
    "kunta = \"Veteli\"\n",
    "taulu = resources[0]['id']\n",
    "muuttuja = 'kunta'\n",
    "urli = f'https://beta.avoindata.fi/data/fi/data/api/3/action/datastore_search_sql?sql=SELECT * from \"{taulu}\" WHERE {muuttuja} LIKE \\'{kunta}\\''\n",
    "urli_plain = f'https://beta.avoindata.fi/data/fi/data/api/3/action/datastore_search_sql?sql=SELECT * from \"{taulu}\"'\n",
    "#urli = \"https://beta.avoindata.fi/data/fi/data/api/3/action/datastore_search_sql?sql=SELECT * from \\\"%s\\\" WHERE %s LIKE '%s'\" % (taulu, muuttuja, kunta)\n",
    "#urli_plain = \"https://beta.avoindata.fi/data/fi/data/api/3/action/datastore_search_sql?sql=SELECT * from \\\"%s\\\"\" % (taulu)\n",
    "response = urlopen(urli_plain)\n",
    "da = json.loads(response.read())\n",
    "dataa = json_normalize(da['result']['records'])\n",
    "#dataa\n",
    "print(dataa.head())"
   ]
  },
  {
   "cell_type": "code",
   "execution_count": null,
   "metadata": {},
   "outputs": [],
   "source": []
  }
 ],
 "metadata": {
  "kernelspec": {
   "display_name": "Python 3",
   "language": "python",
   "name": "python3"
  },
  "language_info": {
   "codemirror_mode": {
    "name": "ipython",
    "version": 3
   },
   "file_extension": ".py",
   "mimetype": "text/x-python",
   "name": "python",
   "nbconvert_exporter": "python",
   "pygments_lexer": "ipython3",
   "version": "3.6.8"
  }
 },
 "nbformat": 4,
 "nbformat_minor": 2
}
