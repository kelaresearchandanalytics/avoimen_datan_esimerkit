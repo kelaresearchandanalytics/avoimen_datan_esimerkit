{
 "cells": [
  {
   "cell_type": "code",
   "execution_count": null,
   "metadata": {},
   "outputs": [],
   "source": [
    "| pvm         | data        | tekijä   |\n",
    "| ---------   | -------     | -------- |\n",
    "| 2019-02-27  | [Lastenhoidon tukien saajat ja maksetut tuet ](https://beta.avoindata.fi/data/fi/dataset/lastenhoidon-tukien-saajat-ja-maksetut-tuet) | Markus Kainu |\n",
    "\n",
    "# Käyttöesimerkkejä: Lapsilisän saajat ja maksetut lapsilisät\n",
    "\n",
    "## Resurssien lataaminen"
   ]
  },
  {
   "cell_type": "code",
   "execution_count": 1,
   "metadata": {},
   "outputs": [],
   "source": [
    "from ckanapi import RemoteCKAN\n",
    "import json\n",
    "import pandas as pd\n",
    "import numpy as np\n",
    "import matplotlib.pyplot as plt\n",
    "from urllib.request import urlopen\n",
    "from pandas.io.json import json_normalize\n",
    "\n",
    "ua = 'avoindata_ckanapi_example/1.0 ({0})'\n",
    "ckan = RemoteCKAN('https://beta.avoindata.fi/data/fi/', user_agent=ua)\n",
    "packages = ckan.action.package_search(q='Kansaneläkelaitos', fq = 'title:lastenhoidon')\n",
    "resources = packages['results'][0]['resources'] \n",
    "url_csv = resources[0]['url']\n",
    "url_json = resources[1]['url']\n",
    "dat = pd.read_csv(url_csv, sep = ';', decimal = ',')"
   ]
  },
  {
   "cell_type": "code",
   "execution_count": 2,
   "metadata": {},
   "outputs": [],
   "source": [
    "response = urlopen(url_json)\n",
    "meta = json.loads(response.read())"
   ]
  },
  {
   "cell_type": "markdown",
   "metadata": {},
   "source": [
    "## Datan ja metadatan kuvailu\n",
    "\n",
    "**Datan kuvaustieto**"
   ]
  },
  {
   "cell_type": "code",
   "execution_count": 3,
   "metadata": {},
   "outputs": [
    {
     "name": "stdout",
     "output_type": "stream",
     "text": [
      "Lastenhoidon tukia tilastointiajanjakson aikana saaneet perheet ja lapset, joista tukia on maksettu, maksetut tuet, keskimääräinen tuki sekä yksityisen päivähoidon tuottajan perimä hoitomaksu kuukaudessa. Lakisääteisten tukien lisäksi raportilta saa tiedot kuntien Kelan kautta maksamista kuntalisistä. Aluetiedot voi valita raportille joko tuen saajan asuinkunnan tai tuen maksaneen kunnan mukaan.Lastenhoidon tuilla tarkoitetaan taloudellista tukea lasten hoidon järjestämiseksi. Tukimuotoja ovat kotihoidon tuki, yksityisen hoidon tuki, osittainen hoitoraha ja joustava hoitoraha.\n"
     ]
    }
   ],
   "source": [
    "print(meta['description'])"
   ]
  },
  {
   "cell_type": "markdown",
   "metadata": {},
   "source": [
    "**Datan muuttujatieto**"
   ]
  },
  {
   "cell_type": "code",
   "execution_count": 4,
   "metadata": {},
   "outputs": [
    {
     "data": {
      "text/html": [
       "<div>\n",
       "<style scoped>\n",
       "    .dataframe tbody tr th:only-of-type {\n",
       "        vertical-align: middle;\n",
       "    }\n",
       "\n",
       "    .dataframe tbody tr th {\n",
       "        vertical-align: top;\n",
       "    }\n",
       "\n",
       "    .dataframe thead th {\n",
       "        text-align: right;\n",
       "    }\n",
       "</style>\n",
       "<table border=\"1\" class=\"dataframe\">\n",
       "  <thead>\n",
       "    <tr style=\"text-align: right;\">\n",
       "      <th></th>\n",
       "      <th>format</th>\n",
       "      <th>name</th>\n",
       "      <th>title</th>\n",
       "      <th>type</th>\n",
       "    </tr>\n",
       "  </thead>\n",
       "  <tbody>\n",
       "    <tr>\n",
       "      <th>0</th>\n",
       "      <td>default</td>\n",
       "      <td>kunta</td>\n",
       "      <td>kuvaus</td>\n",
       "      <td>string</td>\n",
       "    </tr>\n",
       "    <tr>\n",
       "      <th>1</th>\n",
       "      <td>default</td>\n",
       "      <td>vuosi</td>\n",
       "      <td>kuvaus</td>\n",
       "      <td>integer</td>\n",
       "    </tr>\n",
       "    <tr>\n",
       "      <th>2</th>\n",
       "      <td>default</td>\n",
       "      <td>tukien_sisalto</td>\n",
       "      <td>kuvaus</td>\n",
       "      <td>string</td>\n",
       "    </tr>\n",
       "    <tr>\n",
       "      <th>3</th>\n",
       "      <td>default</td>\n",
       "      <td>tukimuoto</td>\n",
       "      <td>kuvaus</td>\n",
       "      <td>string</td>\n",
       "    </tr>\n",
       "    <tr>\n",
       "      <th>4</th>\n",
       "      <td>default</td>\n",
       "      <td>saajat</td>\n",
       "      <td>kuvaus</td>\n",
       "      <td>integer</td>\n",
       "    </tr>\n",
       "    <tr>\n",
       "      <th>5</th>\n",
       "      <td>default</td>\n",
       "      <td>lapset</td>\n",
       "      <td>kuvaus</td>\n",
       "      <td>integer</td>\n",
       "    </tr>\n",
       "    <tr>\n",
       "      <th>6</th>\n",
       "      <td>default</td>\n",
       "      <td>maksetut_etuudet_euroa</td>\n",
       "      <td>kuvaus</td>\n",
       "      <td>number</td>\n",
       "    </tr>\n",
       "    <tr>\n",
       "      <th>7</th>\n",
       "      <td>default</td>\n",
       "      <td>tuki_per_saaja_e_kk</td>\n",
       "      <td>kuvaus</td>\n",
       "      <td>number</td>\n",
       "    </tr>\n",
       "    <tr>\n",
       "      <th>8</th>\n",
       "      <td>default</td>\n",
       "      <td>tuki_per_lapsi_e_kk</td>\n",
       "      <td>kuvaus</td>\n",
       "      <td>number</td>\n",
       "    </tr>\n",
       "    <tr>\n",
       "      <th>9</th>\n",
       "      <td>default</td>\n",
       "      <td>hoitomaksu_per_saaja_e_kk</td>\n",
       "      <td>kuvaus</td>\n",
       "      <td>integer</td>\n",
       "    </tr>\n",
       "    <tr>\n",
       "      <th>10</th>\n",
       "      <td>default</td>\n",
       "      <td>hoitomaksu_per_lapsi_e_kk</td>\n",
       "      <td>kuvaus</td>\n",
       "      <td>integer</td>\n",
       "    </tr>\n",
       "  </tbody>\n",
       "</table>\n",
       "</div>"
      ],
      "text/plain": [
       "     format                       name   title     type\n",
       "0   default                      kunta  kuvaus   string\n",
       "1   default                      vuosi  kuvaus  integer\n",
       "2   default             tukien_sisalto  kuvaus   string\n",
       "3   default                  tukimuoto  kuvaus   string\n",
       "4   default                     saajat  kuvaus  integer\n",
       "5   default                     lapset  kuvaus  integer\n",
       "6   default     maksetut_etuudet_euroa  kuvaus   number\n",
       "7   default        tuki_per_saaja_e_kk  kuvaus   number\n",
       "8   default        tuki_per_lapsi_e_kk  kuvaus   number\n",
       "9   default  hoitomaksu_per_saaja_e_kk  kuvaus  integer\n",
       "10  default  hoitomaksu_per_lapsi_e_kk  kuvaus  integer"
      ]
     },
     "execution_count": 4,
     "metadata": {},
     "output_type": "execute_result"
    }
   ],
   "source": [
    "json_normalize(meta['resources'][0]['schema']['fields'])"
   ]
  },
  {
   "cell_type": "markdown",
   "metadata": {},
   "source": [
    "**Datan ensimmäiset rivit**"
   ]
  },
  {
   "cell_type": "code",
   "execution_count": 5,
   "metadata": {},
   "outputs": [
    {
     "name": "stdout",
     "output_type": "stream",
     "text": [
      "  kunta   vuosi      tukien_sisalto               tukimuoto  saajat  lapset  \\\n",
      "0  Akaa  2018.0  Lakisääteiset tuet                Yhteensä   355.0   462.0   \n",
      "1  Akaa  2018.0  Lakisääteiset tuet         Kotihoidon tuki   264.0   365.0   \n",
      "2  Akaa  2018.0  Lakisääteiset tuet  Yksityisen hoidon tuki    20.0    26.0   \n",
      "3  Akaa  2018.0  Lakisääteiset tuet    Osittainen hoitoraha    56.0    57.0   \n",
      "4  Akaa  2018.0  Lakisääteiset tuet      Joustava hoitoraha    50.0    49.0   \n",
      "\n",
      "   maksetut_etuudet_euroa  tuki_per_saaja_e_kk  tuki_per_lapsi_e_kk  \\\n",
      "0               805236.55             312.1573             251.4208   \n",
      "1               686767.42             401.0870             297.5806   \n",
      "2                31247.01             189.7857             166.0625   \n",
      "3                33290.33              96.9032              96.9032   \n",
      "4                53931.79             188.9500             188.9500   \n",
      "\n",
      "   hoitomaksu_per_saaja_e_kk  hoitomaksu_per_lapsi_e_kk  \n",
      "0                   489.5714                    428.375  \n",
      "1                     0.0000                      0.000  \n",
      "2                   489.5714                    428.375  \n",
      "3                     0.0000                      0.000  \n",
      "4                     0.0000                      0.000  \n"
     ]
    }
   ],
   "source": [
    "print(dat.head())"
   ]
  },
  {
   "cell_type": "code",
   "execution_count": 6,
   "metadata": {},
   "outputs": [],
   "source": [
    "plotdat = (dat\n",
    " .query('vuosi == 2018')\n",
    " .query('tukimuoto == \"Kotihoidon tuki\"')\n",
    " .sort_values(by='tuki_per_saaja_e_kk', ascending=False)\n",
    " .head(20))\n",
    "\n",
    "#plt.bar(plotdat, height = )"
   ]
  },
  {
   "cell_type": "markdown",
   "metadata": {},
   "source": [
    "## Kuvio"
   ]
  },
  {
   "cell_type": "code",
   "execution_count": 7,
   "metadata": {},
   "outputs": [
    {
     "data": {
      "text/plain": [
       "<BarContainer object of 20 artists>"
      ]
     },
     "execution_count": 7,
     "metadata": {},
     "output_type": "execute_result"
    },
    {
     "data": {
      "image/png": "[encoded data removed]",
      "text/plain": [
       "<Figure size 432x288 with 1 Axes>"
      ]
     },
     "metadata": {
      "needs_background": "light"
     },
     "output_type": "display_data"
    }
   ],
   "source": [
    "plt.bar(plotdat['kunta'], plotdat['tuki_per_saaja_e_kk'])"
   ]
  },
  {
   "cell_type": "markdown",
   "metadata": {},
   "source": [
    "## Datastore-api\n",
    "\n",
    "Jos et tarvitse koko aineistoa, voit suodattaa siitä osio SQL:llä käyttäen CKAN:n DataStore-rajapintaa.\n",
    "\n",
    "Alla olevassa esimerkissä tehdään rajaus `kunta`-muuttujasta ja siis etsitään vaan kuntaa *Veteli* koskevat tiedot."
   ]
  },
  {
   "cell_type": "code",
   "execution_count": 8,
   "metadata": {},
   "outputs": [
    {
     "name": "stdout",
     "output_type": "stream",
     "text": [
      "                                          _full_text  _id  \\\n",
      "0  '1573':11 '2018':2 '251':12 '312':10 '355':6 '...    1   \n",
      "1  '0':15,17 '0000':16,18 '0870':12 '2018':2 '264...    2   \n",
      "2  '01':11 '0625':15 '166':14 '189':12 '20':8 '20...    3   \n",
      "3  '0':15,17 '0000':16,18 '2018':2 '33':10 '33290...    4   \n",
      "4  '0':15,17 '0000':16,18 '188':11,13 '2018':2 '4...    5   \n",
      "\n",
      "  hoitomaksu_per_lapsi_e_kk hoitomaksu_per_saaja_e_kk kunta lapset  \\\n",
      "0                  428,3750                  489,5714  Akaa    462   \n",
      "1                    0,0000                    0,0000  Akaa    365   \n",
      "2                  428,3750                  489,5714  Akaa     26   \n",
      "3                    0,0000                    0,0000  Akaa     57   \n",
      "4                    0,0000                    0,0000  Akaa     49   \n",
      "\n",
      "  maksetut_etuudet_euroa saajat tuki_per_lapsi_e_kk tuki_per_saaja_e_kk  \\\n",
      "0              805236,55    355            251,4208            312,1573   \n",
      "1              686767,42    264            297,5806            401,0870   \n",
      "2               31247,01     20            166,0625            189,7857   \n",
      "3               33290,33     56             96,9032             96,9032   \n",
      "4               53931,79     50            188,9500            188,9500   \n",
      "\n",
      "       tukien_sisalto               tukimuoto vuosi  \n",
      "0  Lakisääteiset tuet                Yhteensä  2018  \n",
      "1  Lakisääteiset tuet         Kotihoidon tuki  2018  \n",
      "2  Lakisääteiset tuet  Yksityisen hoidon tuki  2018  \n",
      "3  Lakisääteiset tuet    Osittainen hoitoraha  2018  \n",
      "4  Lakisääteiset tuet      Joustava hoitoraha  2018  \n"
     ]
    }
   ],
   "source": [
    "kunta = \"Veteli\"\n",
    "taulu = resources[0]['id']\n",
    "muuttuja = 'kunta'\n",
    "urli = f'https://beta.avoindata.fi/data/fi/data/api/3/action/datastore_search_sql?sql=SELECT * from \"{taulu}\" WHERE {muuttuja} LIKE \\'{kunta}\\''\n",
    "urli_plain = f'https://beta.avoindata.fi/data/fi/data/api/3/action/datastore_search_sql?sql=SELECT * from \"{taulu}\"'\n",
    "#urli = \"https://beta.avoindata.fi/data/fi/data/api/3/action/datastore_search_sql?sql=SELECT * from \\\"%s\\\" WHERE %s LIKE '%s'\" % (taulu, muuttuja, kunta)\n",
    "#urli_plain = \"https://beta.avoindata.fi/data/fi/data/api/3/action/datastore_search_sql?sql=SELECT * from \\\"%s\\\"\" % (taulu)\n",
    "response = urlopen(urli_plain)\n",
    "da = json.loads(response.read())\n",
    "dataa = json_normalize(da['result']['records'])\n",
    "#dataa\n",
    "print(dataa.head())"
   ]
  }
 ],
 "metadata": {
  "kernelspec": {
   "display_name": "Python 3",
   "language": "python",
   "name": "python3"
  },
  "language_info": {
   "codemirror_mode": {
    "name": "ipython",
    "version": 3
   },
   "file_extension": ".py",
   "mimetype": "text/x-python",
   "name": "python",
   "nbconvert_exporter": "python",
   "pygments_lexer": "ipython3",
   "version": "3.6.8"
  }
 },
 "nbformat": 4,
 "nbformat_minor": 2
}
