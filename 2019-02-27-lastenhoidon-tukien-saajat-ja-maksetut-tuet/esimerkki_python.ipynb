{
 "cells": [
  {
   "cell_type": "code",
   "execution_count": 1,
   "metadata": {},
   "outputs": [],
   "source": [
    "from ckanapi import RemoteCKAN\n",
    "import json\n",
    "import pandas as pd\n",
    "import numpy as np\n",
    "import matplotlib.pyplot as plt\n",
    "from urllib.request import urlopen\n",
    "from pandas.io.json import json_normalize\n",
    "\n",
    "ua = 'avoindata_ckanapi_example/1.0 ({0})'\n",
    "ckan = RemoteCKAN('https://beta.avoindata.fi/data/fi/', user_agent=ua)\n",
    "packages = ckan.action.package_search(q='Kansaneläkelaitos', fq = 'title:lastenhoidon')\n",
    "resources = packages['results'][0]['resources'] \n",
    "url_csv = resources[0]['url']\n",
    "url_json = resources[1]['url']\n",
    "dat = pd.read_csv(url_csv, sep = ';', decimal = ',')"
   ]
  },
  {
   "cell_type": "code",
   "execution_count": 3,
   "metadata": {},
   "outputs": [],
   "source": [
    "response = urlopen(url_json)\n",
    "meta = json.loads(response.read())"
   ]
  },
  {
   "cell_type": "markdown",
   "metadata": {},
   "source": [
    "## Datan ja metadatan kuvailu\n",
    "\n",
    "**Datan kuvaustieto**"
   ]
  },
  {
   "cell_type": "code",
   "execution_count": 4,
   "metadata": {},
   "outputs": [
    {
     "name": "stdout",
     "output_type": "stream",
     "text": [
      "Lastenhoidon tukia tilastointiajanjakson aikana saaneet perheet ja lapset, joista tukia on maksettu, maksetut tuet, keskimääräinen tuki sekä yksityisen päivähoidon tuottajan perimä hoitomaksu kuukaudessa. Lakisääteisten tukien lisäksi raportilta saa tiedot kuntien Kelan kautta maksamista kuntalisistä. Aluetiedot voi valita raportille joko tuen saajan asuinkunnan tai tuen maksaneen kunnan mukaan.Lastenhoidon tuilla tarkoitetaan taloudellista tukea lasten hoidon järjestämiseksi. Tukimuotoja ovat kotihoidon tuki, yksityisen hoidon tuki, osittainen hoitoraha ja joustava hoitoraha.\n"
     ]
    }
   ],
   "source": [
    "print(meta['description'])"
   ]
  },
  {
   "cell_type": "markdown",
   "metadata": {},
   "source": [
    "**Datan muuttujatieto**"
   ]
  },
  {
   "cell_type": "code",
   "execution_count": 5,
   "metadata": {},
   "outputs": [
    {
     "data": {
      "text/html": [
       "<div>\n",
       "<style scoped>\n",
       "    .dataframe tbody tr th:only-of-type {\n",
       "        vertical-align: middle;\n",
       "    }\n",
       "\n",
       "    .dataframe tbody tr th {\n",
       "        vertical-align: top;\n",
       "    }\n",
       "\n",
       "    .dataframe thead th {\n",
       "        text-align: right;\n",
       "    }\n",
       "</style>\n",
       "<table border=\"1\" class=\"dataframe\">\n",
       "  <thead>\n",
       "    <tr style=\"text-align: right;\">\n",
       "      <th></th>\n",
       "      <th>format</th>\n",
       "      <th>name</th>\n",
       "      <th>type</th>\n",
       "      <th>values</th>\n",
       "    </tr>\n",
       "  </thead>\n",
       "  <tbody>\n",
       "    <tr>\n",
       "      <th>0</th>\n",
       "      <td>default</td>\n",
       "      <td>kuntanumero</td>\n",
       "      <td>integer</td>\n",
       "      <td>[5, 9, 10, 16, 18, 19, 20, 46, 47, 49, 50, 51,...</td>\n",
       "    </tr>\n",
       "    <tr>\n",
       "      <th>1</th>\n",
       "      <td>default</td>\n",
       "      <td>kunta</td>\n",
       "      <td>string</td>\n",
       "      <td>[Alajärvi, Alavieska, Alavus, Asikkala, Askola...</td>\n",
       "    </tr>\n",
       "    <tr>\n",
       "      <th>2</th>\n",
       "      <td>default</td>\n",
       "      <td>aikajakso</td>\n",
       "      <td>string</td>\n",
       "      <td>[vuosi, kuukausi]</td>\n",
       "    </tr>\n",
       "    <tr>\n",
       "      <th>3</th>\n",
       "      <td>default</td>\n",
       "      <td>tukien_sisalto</td>\n",
       "      <td>string</td>\n",
       "      <td>[Lakisääteiset tuet, Lakisääteiset tuet ja kun...</td>\n",
       "    </tr>\n",
       "    <tr>\n",
       "      <th>4</th>\n",
       "      <td>default</td>\n",
       "      <td>tukimuoto</td>\n",
       "      <td>string</td>\n",
       "      <td>[Yhteensä, Kotihoidon tuki, Yksityisen hoidon ...</td>\n",
       "    </tr>\n",
       "    <tr>\n",
       "      <th>5</th>\n",
       "      <td>default</td>\n",
       "      <td>sukupuoli</td>\n",
       "      <td>string</td>\n",
       "      <td>[Yhteensä, Miehet, Naiset]</td>\n",
       "    </tr>\n",
       "    <tr>\n",
       "      <th>6</th>\n",
       "      <td>default</td>\n",
       "      <td>saajat</td>\n",
       "      <td>number</td>\n",
       "      <td>[4, 999]</td>\n",
       "    </tr>\n",
       "    <tr>\n",
       "      <th>7</th>\n",
       "      <td>default</td>\n",
       "      <td>lapset</td>\n",
       "      <td>number</td>\n",
       "      <td>[2, 999]</td>\n",
       "    </tr>\n",
       "    <tr>\n",
       "      <th>8</th>\n",
       "      <td>default</td>\n",
       "      <td>maksetut_etuudet_euroa</td>\n",
       "      <td>number</td>\n",
       "      <td>[-1209, 999879]</td>\n",
       "    </tr>\n",
       "    <tr>\n",
       "      <th>9</th>\n",
       "      <td>default</td>\n",
       "      <td>tuki_per_saaja_e_kk</td>\n",
       "      <td>number</td>\n",
       "      <td>[0, 1684]</td>\n",
       "    </tr>\n",
       "    <tr>\n",
       "      <th>10</th>\n",
       "      <td>default</td>\n",
       "      <td>tuki_per_lapsi_e_kk</td>\n",
       "      <td>number</td>\n",
       "      <td>[0, 775.5]</td>\n",
       "    </tr>\n",
       "    <tr>\n",
       "      <th>11</th>\n",
       "      <td>default</td>\n",
       "      <td>hoitomaksu_per_saaja_e_kk</td>\n",
       "      <td>number</td>\n",
       "      <td>[0, 2705]</td>\n",
       "    </tr>\n",
       "    <tr>\n",
       "      <th>12</th>\n",
       "      <td>default</td>\n",
       "      <td>hoitomaksu_per_lapsi_e_kk</td>\n",
       "      <td>number</td>\n",
       "      <td>[0, 1540]</td>\n",
       "    </tr>\n",
       "    <tr>\n",
       "      <th>13</th>\n",
       "      <td>default</td>\n",
       "      <td>vuosi</td>\n",
       "      <td>integer</td>\n",
       "      <td>[2007, 2008, 2009, 2010, 2011, 2012, 2013, 201...</td>\n",
       "    </tr>\n",
       "    <tr>\n",
       "      <th>14</th>\n",
       "      <td>default</td>\n",
       "      <td>kuukausi</td>\n",
       "      <td>integer</td>\n",
       "      <td>[NA, 1, 2, 3, 4, 5, 6, 7, 8, 9, 10, 11, 12]</td>\n",
       "    </tr>\n",
       "  </tbody>\n",
       "</table>\n",
       "</div>"
      ],
      "text/plain": [
       "     format                       name     type  \\\n",
       "0   default                kuntanumero  integer   \n",
       "1   default                      kunta   string   \n",
       "2   default                  aikajakso   string   \n",
       "3   default             tukien_sisalto   string   \n",
       "4   default                  tukimuoto   string   \n",
       "5   default                  sukupuoli   string   \n",
       "6   default                     saajat   number   \n",
       "7   default                     lapset   number   \n",
       "8   default     maksetut_etuudet_euroa   number   \n",
       "9   default        tuki_per_saaja_e_kk   number   \n",
       "10  default        tuki_per_lapsi_e_kk   number   \n",
       "11  default  hoitomaksu_per_saaja_e_kk   number   \n",
       "12  default  hoitomaksu_per_lapsi_e_kk   number   \n",
       "13  default                      vuosi  integer   \n",
       "14  default                   kuukausi  integer   \n",
       "\n",
       "                                               values  \n",
       "0   [5, 9, 10, 16, 18, 19, 20, 46, 47, 49, 50, 51,...  \n",
       "1   [Alajärvi, Alavieska, Alavus, Asikkala, Askola...  \n",
       "2                                   [vuosi, kuukausi]  \n",
       "3   [Lakisääteiset tuet, Lakisääteiset tuet ja kun...  \n",
       "4   [Yhteensä, Kotihoidon tuki, Yksityisen hoidon ...  \n",
       "5                          [Yhteensä, Miehet, Naiset]  \n",
       "6                                            [4, 999]  \n",
       "7                                            [2, 999]  \n",
       "8                                     [-1209, 999879]  \n",
       "9                                           [0, 1684]  \n",
       "10                                         [0, 775.5]  \n",
       "11                                          [0, 2705]  \n",
       "12                                          [0, 1540]  \n",
       "13  [2007, 2008, 2009, 2010, 2011, 2012, 2013, 201...  \n",
       "14        [NA, 1, 2, 3, 4, 5, 6, 7, 8, 9, 10, 11, 12]  "
      ]
     },
     "execution_count": 5,
     "metadata": {},
     "output_type": "execute_result"
    }
   ],
   "source": [
    "json_normalize(meta['resources'][0]['schema']['fields'])"
   ]
  },
  {
   "cell_type": "markdown",
   "metadata": {},
   "source": [
    "**Datan ensimmäiset rivit**"
   ]
  },
  {
   "cell_type": "code",
   "execution_count": 6,
   "metadata": {},
   "outputs": [
    {
     "name": "stdout",
     "output_type": "stream",
     "text": [
      "   kuntanumero      kunta aikajakso      tukien_sisalto tukimuoto sukupuoli  \\\n",
      "0            5   Alajärvi     vuosi  Lakisääteiset tuet  Yhteensä  Yhteensä   \n",
      "1            5   Alajärvi     vuosi  Lakisääteiset tuet  Yhteensä    Miehet   \n",
      "2            5   Alajärvi     vuosi  Lakisääteiset tuet  Yhteensä    Naiset   \n",
      "3            9  Alavieska     vuosi  Lakisääteiset tuet  Yhteensä  Yhteensä   \n",
      "4            9  Alavieska     vuosi  Lakisääteiset tuet  Yhteensä    Miehet   \n",
      "\n",
      "   saajat  lapset  maksetut_etuudet_euroa  tuki_per_saaja_e_kk  \\\n",
      "0   263.0   472.0                697876.0               339.01   \n",
      "1    13.0    19.0                 26416.0               345.00   \n",
      "2   250.0   462.0                671459.0               338.88   \n",
      "3    73.0   144.0                185966.0               336.63   \n",
      "4     5.0     8.0                  5771.0               360.00   \n",
      "\n",
      "   tuki_per_lapsi_e_kk  hoitomaksu_per_saaja_e_kk  hoitomaksu_per_lapsi_e_kk  \\\n",
      "0               202.55                       0.00                       0.00   \n",
      "1               258.75                       0.00                       0.00   \n",
      "2               201.58                       0.00                       0.00   \n",
      "3               180.94                     350.75                     350.75   \n",
      "4               360.00                       0.00                       0.00   \n",
      "\n",
      "   vuosi  kuukausi  \n",
      "0   2007       NaN  \n",
      "1   2007       NaN  \n",
      "2   2007       NaN  \n",
      "3   2007       NaN  \n",
      "4   2007       NaN  \n"
     ]
    }
   ],
   "source": [
    "print(dat.head())"
   ]
  },
  {
   "cell_type": "code",
   "execution_count": 7,
   "metadata": {},
   "outputs": [],
   "source": [
    "plotdat = (dat\n",
    " .query('aikajakso == \"vuosi\"')\n",
    " .query('vuosi == \"2018\"')\n",
    " .query('tukimuoto == \"Kotihoidon tuki\"')\n",
    " .query('tukien_sisalto == \"Lakisääteiset tuet\"')\n",
    " .query('sukupuoli == \"Yhteensä\"')\n",
    " .sort_values(by='tuki_per_saaja_e_kk', ascending=False)\n",
    " .head(20))\n",
    "\n",
    "#plt.bar(plotdat, height = )"
   ]
  },
  {
   "cell_type": "markdown",
   "metadata": {},
   "source": [
    "## Kuvio"
   ]
  },
  {
   "cell_type": "code",
   "execution_count": 8,
   "metadata": {},
   "outputs": [
    {
     "data": {
      "text/plain": [
       "<BarContainer object of 20 artists>"
      ]
     },
     "execution_count": 8,
     "metadata": {},
     "output_type": "execute_result"
    },
    {
     "data": {
      "image/png": "[encoded data removed]",
      "text/plain": [
       "<Figure size 432x288 with 1 Axes>"
      ]
     },
     "metadata": {
      "needs_background": "light"
     },
     "output_type": "display_data"
    }
   ],
   "source": [
    "plt.bar(plotdat['kunta'], plotdat['tuki_per_saaja_e_kk'])"
   ]
  },
  {
   "cell_type": "markdown",
   "metadata": {},
   "source": [
    "## Datastore-api\n",
    "\n",
    "Jos et tarvitse koko aineistoa, voit suodattaa siitä osio SQL:llä käyttäen CKAN:n DataStore-rajapintaa.\n",
    "\n",
    "Alla olevassa esimerkissä tehdään rajaus `kunta`-muuttujasta ja siis etsitään vaan kuntaa *Veteli* koskevat tiedot."
   ]
  },
  {
   "cell_type": "code",
   "execution_count": 9,
   "metadata": {},
   "outputs": [
    {
     "name": "stdout",
     "output_type": "stream",
     "text": [
      "                                          _full_text  _id aikajakso  \\\n",
      "0  '0':15,17 '00':16,18 '01':12 '2007':19 '202':1...    1     vuosi   \n",
      "1  '0':15,17 '00':12,16,18 '13':8 '19':9 '2007':1...    2     vuosi   \n",
      "2  '0':15,17 '00':16,18 '2007':19 '201':13 '250':...    3     vuosi   \n",
      "3  '144':9 '180':13 '185966':10 '2007':19 '336':1...    4     vuosi   \n",
      "4  '0':15,17 '00':12,14,16,18 '2007':19 '360':11,...    5     vuosi   \n",
      "\n",
      "  hoitomaksu_per_lapsi_e_kk hoitomaksu_per_saaja_e_kk      kunta kuntanumero  \\\n",
      "0                      0,00                      0,00   Alajärvi           5   \n",
      "1                      0,00                      0,00   Alajärvi           5   \n",
      "2                      0,00                      0,00   Alajärvi           5   \n",
      "3                    350,75                    350,75  Alavieska           9   \n",
      "4                      0,00                      0,00  Alavieska           9   \n",
      "\n",
      "  kuukausi lapset maksetut_etuudet_euroa saajat sukupuoli tuki_per_lapsi_e_kk  \\\n",
      "0       NA    472                 697876    263  Yhteensä              202,55   \n",
      "1       NA     19                  26416     13    Miehet              258,75   \n",
      "2       NA    462                 671459    250    Naiset              201,58   \n",
      "3       NA    144                 185966     73  Yhteensä              180,94   \n",
      "4       NA      8                   5771      5    Miehet              360,00   \n",
      "\n",
      "  tuki_per_saaja_e_kk      tukien_sisalto tukimuoto vuosi  \n",
      "0              339,01  Lakisääteiset tuet  Yhteensä  2007  \n",
      "1              345,00  Lakisääteiset tuet  Yhteensä  2007  \n",
      "2              338,88  Lakisääteiset tuet  Yhteensä  2007  \n",
      "3              336,63  Lakisääteiset tuet  Yhteensä  2007  \n",
      "4              360,00  Lakisääteiset tuet  Yhteensä  2007  \n"
     ]
    }
   ],
   "source": [
    "kunta = \"Veteli\"\n",
    "taulu = resources[0]['id']\n",
    "muuttuja = 'kunta'\n",
    "urli = f'https://beta.avoindata.fi/data/fi/data/api/3/action/datastore_search_sql?sql=SELECT * from \"{taulu}\" WHERE {muuttuja} LIKE \\'{kunta}\\''\n",
    "urli_plain = f'https://beta.avoindata.fi/data/fi/data/api/3/action/datastore_search_sql?sql=SELECT * from \"{taulu}\"'\n",
    "#urli = \"https://beta.avoindata.fi/data/fi/data/api/3/action/datastore_search_sql?sql=SELECT * from \\\"%s\\\" WHERE %s LIKE '%s'\" % (taulu, muuttuja, kunta)\n",
    "#urli_plain = \"https://beta.avoindata.fi/data/fi/data/api/3/action/datastore_search_sql?sql=SELECT * from \\\"%s\\\"\" % (taulu)\n",
    "response = urlopen(urli_plain)\n",
    "da = json.loads(response.read())\n",
    "dataa = json_normalize(da['result']['records'])\n",
    "#dataa\n",
    "print(dataa.head())"
   ]
  },
  {
   "cell_type": "code",
   "execution_count": null,
   "metadata": {},
   "outputs": [],
   "source": []
  }
 ],
 "metadata": {
  "kernelspec": {
   "display_name": "Python 3",
   "language": "python",
   "name": "python3"
  },
  "language_info": {
   "codemirror_mode": {
    "name": "ipython",
    "version": 3
   },
   "file_extension": ".py",
   "mimetype": "text/x-python",
   "name": "python",
   "nbconvert_exporter": "python",
   "pygments_lexer": "ipython3",
   "version": "3.6.8"
  }
 },
 "nbformat": 4,
 "nbformat_minor": 2
}
