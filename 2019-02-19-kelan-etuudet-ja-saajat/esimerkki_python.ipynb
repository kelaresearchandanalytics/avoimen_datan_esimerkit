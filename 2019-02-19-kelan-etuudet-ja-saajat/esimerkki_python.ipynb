{
 "cells": [
  {
   "cell_type": "code",
   "execution_count": 1,
   "metadata": {},
   "outputs": [
    {
     "name": "stderr",
     "output_type": "stream",
     "text": [
      "/home/e275ceo/anaconda3/lib/python3.6/site-packages/IPython/core/interactiveshell.py:3044: DtypeWarning: Columns (3) have mixed types. Specify dtype option on import or set low_memory=False.\n",
      "  interactivity=interactivity, compiler=compiler, result=result)\n"
     ]
    }
   ],
   "source": [
    "from ckanapi import RemoteCKAN\n",
    "import json\n",
    "import pandas as pd\n",
    "import numpy as np\n",
    "import matplotlib.pyplot as plt\n",
    "from urllib.request import urlopen\n",
    "from pandas.io.json import json_normalize\n",
    "\n",
    "ua = 'avoindata_ckanapi_example/1.0 ({0})'\n",
    "ckan = RemoteCKAN('https://beta.avoindata.fi/data/fi/', user_agent=ua)\n",
    "packages = ckan.action.package_search(q='Kansaneläkelaitos', fq = 'title:etuuksien')\n",
    "resources = packages['results'][0]['resources'] \n",
    "url_csv = resources[0]['url']\n",
    "url_json = resources[1]['url']\n",
    "dat = pd.read_csv(url_csv, sep = ';', decimal = ',')"
   ]
  },
  {
   "cell_type": "code",
   "execution_count": 2,
   "metadata": {},
   "outputs": [],
   "source": [
    "response = urlopen(url_json)\n",
    "meta = json.loads(response.read())"
   ]
  },
  {
   "cell_type": "markdown",
   "metadata": {},
   "source": [
    "## Datan ja metadatan kuvailu\n",
    "\n",
    "**Datan kuvaustieto**"
   ]
  },
  {
   "cell_type": "code",
   "execution_count": 3,
   "metadata": {},
   "outputs": [
    {
     "name": "stdout",
     "output_type": "stream",
     "text": [
      "Aineisto sisältää tiedot Kelan maksamien etuuksien saajista, maksetuista etuuksista ja keskimääräisistä etuuksista (euroa/saaja). Raportti kattaa valtaosan Kelan maksamista etuuksista. Maksetuista etuuksista kuitenkin puuttuvat työnantajien järjestämästä työterveyshuollosta, yrittäjien työterveyshuollosta ja opiskelijoiden terveydenhuollosta maksetut korvaukset. Eläkkeistä, vammaisetuuksista, asumistuista ja elatustuesta ei tilastoida vuoden aikana etuutta saaneita henkilöitä eikä keskimääräisiä etuuksia. Näistä etuuksista tilastoidaan ainoastaan poikkileikkaushetken tiedot kuukausittain. Yleisen asumistuen tilastoinnissa saajien tilastoyksikkö on asumistuen ruokakunta, ja keskimääräinen etuus tilastoidaan asumistuen ruokakuntaa kohti. Opintolainavähennys on verovähennys, joten maksettua etuutta ei ole. Perustoimeentulotuen tilastoinnissa saajien tilastoyksikkö on toimeentulotuen kotitalous, ja keskimääräinen etuus tilastoidaan toimeentulotuen kotitaloutta kohti.\n"
     ]
    }
   ],
   "source": [
    "print(meta['description'])"
   ]
  },
  {
   "cell_type": "markdown",
   "metadata": {},
   "source": [
    "**Datan muuttujatieto**"
   ]
  },
  {
   "cell_type": "code",
   "execution_count": 4,
   "metadata": {},
   "outputs": [
    {
     "data": {
      "text/html": [
       "<div>\n",
       "<style scoped>\n",
       "    .dataframe tbody tr th:only-of-type {\n",
       "        vertical-align: middle;\n",
       "    }\n",
       "\n",
       "    .dataframe tbody tr th {\n",
       "        vertical-align: top;\n",
       "    }\n",
       "\n",
       "    .dataframe thead th {\n",
       "        text-align: right;\n",
       "    }\n",
       "</style>\n",
       "<table border=\"1\" class=\"dataframe\">\n",
       "  <thead>\n",
       "    <tr style=\"text-align: right;\">\n",
       "      <th></th>\n",
       "      <th>format</th>\n",
       "      <th>name</th>\n",
       "      <th>type</th>\n",
       "    </tr>\n",
       "  </thead>\n",
       "  <tbody>\n",
       "    <tr>\n",
       "      <th>0</th>\n",
       "      <td>default</td>\n",
       "      <td>kuntanumero</td>\n",
       "      <td>integer</td>\n",
       "    </tr>\n",
       "    <tr>\n",
       "      <th>1</th>\n",
       "      <td>default</td>\n",
       "      <td>kunta</td>\n",
       "      <td>string</td>\n",
       "    </tr>\n",
       "    <tr>\n",
       "      <th>2</th>\n",
       "      <td>default</td>\n",
       "      <td>aikajakso</td>\n",
       "      <td>string</td>\n",
       "    </tr>\n",
       "    <tr>\n",
       "      <th>3</th>\n",
       "      <td>default</td>\n",
       "      <td>aika</td>\n",
       "      <td>integer</td>\n",
       "    </tr>\n",
       "    <tr>\n",
       "      <th>4</th>\n",
       "      <td>default</td>\n",
       "      <td>etuus</td>\n",
       "      <td>string</td>\n",
       "    </tr>\n",
       "    <tr>\n",
       "      <th>5</th>\n",
       "      <td>default</td>\n",
       "      <td>saajat</td>\n",
       "      <td>integer</td>\n",
       "    </tr>\n",
       "    <tr>\n",
       "      <th>6</th>\n",
       "      <td>default</td>\n",
       "      <td>maksetut_etuudet_euroa</td>\n",
       "      <td>integer</td>\n",
       "    </tr>\n",
       "    <tr>\n",
       "      <th>7</th>\n",
       "      <td>default</td>\n",
       "      <td>euroa_per_saaja</td>\n",
       "      <td>number</td>\n",
       "    </tr>\n",
       "  </tbody>\n",
       "</table>\n",
       "</div>"
      ],
      "text/plain": [
       "    format                    name     type\n",
       "0  default             kuntanumero  integer\n",
       "1  default                   kunta   string\n",
       "2  default               aikajakso   string\n",
       "3  default                    aika  integer\n",
       "4  default                   etuus   string\n",
       "5  default                  saajat  integer\n",
       "6  default  maksetut_etuudet_euroa  integer\n",
       "7  default         euroa_per_saaja   number"
      ]
     },
     "execution_count": 4,
     "metadata": {},
     "output_type": "execute_result"
    }
   ],
   "source": [
    "json_normalize(meta['resources'][0]['schema']['fields'])"
   ]
  },
  {
   "cell_type": "markdown",
   "metadata": {},
   "source": [
    "**Datan ensimmäiset rivit**"
   ]
  },
  {
   "cell_type": "code",
   "execution_count": 5,
   "metadata": {},
   "outputs": [
    {
     "name": "stdout",
     "output_type": "stream",
     "text": [
      "   kuntanumero      kunta aikajakso  aika      etuus  saajat  \\\n",
      "0            5   Alajärvi     vuosi  2007  Kuntoutus   210.0   \n",
      "1            9  Alavieska     vuosi  2007  Kuntoutus    41.0   \n",
      "2           10     Alavus     vuosi  2007  Kuntoutus   240.0   \n",
      "3           16   Asikkala     vuosi  2007  Kuntoutus   119.0   \n",
      "4           18     Askola     vuosi  2007  Kuntoutus    52.0   \n",
      "\n",
      "   maksetut_etuudet_euroa  euroa_per_saaja  \n",
      "0                495806.0          2360.98  \n",
      "1                143525.0          3500.61  \n",
      "2                612924.0          2553.85  \n",
      "3                299271.0          2514.88  \n",
      "4                175090.0          3367.12  \n"
     ]
    }
   ],
   "source": [
    "print(dat.head())"
   ]
  },
  {
   "cell_type": "code",
   "execution_count": 14,
   "metadata": {},
   "outputs": [],
   "source": [
    "plotdat = (dat\n",
    " .query('aikajakso == \"vuosi\"')\n",
    " .query('aika == 2017')\n",
    " .query('etuus == \"Kuntoutus\"')\n",
    " .sort_values(by='maksetut_etuudet_euroa', ascending=False)\n",
    " .head(20))\n",
    "\n",
    "#plt.bar(plotdat, height = )"
   ]
  },
  {
   "cell_type": "markdown",
   "metadata": {},
   "source": [
    "## Kuvio"
   ]
  },
  {
   "cell_type": "code",
   "execution_count": 16,
   "metadata": {},
   "outputs": [
    {
     "data": {
      "text/plain": [
       "<BarContainer object of 20 artists>"
      ]
     },
     "execution_count": 16,
     "metadata": {},
     "output_type": "execute_result"
    },
    {
     "data": {
      "image/png": "[encoded data removed]",
      "text/plain": [
       "<Figure size 432x288 with 1 Axes>"
      ]
     },
     "metadata": {
      "needs_background": "light"
     },
     "output_type": "display_data"
    }
   ],
   "source": [
    "plt.bar(plotdat['kunta'], plotdat['maksetut_etuudet_euroa'])"
   ]
  },
  {
   "cell_type": "markdown",
   "metadata": {},
   "source": [
    "## Datastore-api\n",
    "\n",
    "Jos et tarvitse koko aineistoa, voit suodattaa siitä osio SQL:llä käyttäen CKAN:n DataStore-rajapintaa.\n",
    "\n",
    "Alla olevassa esimerkissä tehdään rajaus `kunta`-muuttujasta ja siis etsitään vaan kuntaa *Veteli* koskevat tiedot."
   ]
  },
  {
   "cell_type": "code",
   "execution_count": 17,
   "metadata": {},
   "outputs": [
    {
     "name": "stdout",
     "output_type": "stream",
     "text": [
      "                                          _full_text  _id  aika aikajakso  \\\n",
      "0  '2007':4 '210':6 '2360':8 '495806':7 '5':1 '98...    1  2007     vuosi   \n",
      "1  '143525':7 '2007':4 '3500':8 '41':6 '61':9 '9'...    2  2007     vuosi   \n",
      "2  '10':1 '2007':4 '240':6 '2553':8 '612924':7 '8...    3  2007     vuosi   \n",
      "3  '119':6 '16':1 '2007':4 '2514':8 '299271':7 '8...    4  2007     vuosi   \n",
      "4  '12':9 '175090':7 '18':1 '2007':4 '3367':8 '52...    5  2007     vuosi   \n",
      "\n",
      "       etuus euroa_per_saaja      kunta kuntanumero maksetut_etuudet_euroa  \\\n",
      "0  Kuntoutus         2360,98   Alajärvi           5                 495806   \n",
      "1  Kuntoutus         3500,61  Alavieska           9                 143525   \n",
      "2  Kuntoutus         2553,85     Alavus          10                 612924   \n",
      "3  Kuntoutus         2514,88   Asikkala          16                 299271   \n",
      "4  Kuntoutus         3367,12     Askola          18                 175090   \n",
      "\n",
      "  saajat  \n",
      "0    210  \n",
      "1     41  \n",
      "2    240  \n",
      "3    119  \n",
      "4     52  \n"
     ]
    }
   ],
   "source": [
    "kunta = \"Veteli\"\n",
    "taulu = resources[0]['id']\n",
    "muuttuja = 'kunta'\n",
    "urli = f'https://beta.avoindata.fi/data/fi/data/api/3/action/datastore_search_sql?sql=SELECT * from \"{taulu}\" WHERE {muuttuja} LIKE \\'{kunta}\\''\n",
    "urli_plain = f'https://beta.avoindata.fi/data/fi/data/api/3/action/datastore_search_sql?sql=SELECT * from \"{taulu}\"'\n",
    "#urli = \"https://beta.avoindata.fi/data/fi/data/api/3/action/datastore_search_sql?sql=SELECT * from \\\"%s\\\" WHERE %s LIKE '%s'\" % (taulu, muuttuja, kunta)\n",
    "#urli_plain = \"https://beta.avoindata.fi/data/fi/data/api/3/action/datastore_search_sql?sql=SELECT * from \\\"%s\\\"\" % (taulu)\n",
    "response = urlopen(urli_plain)\n",
    "da = json.loads(response.read())\n",
    "dataa = json_normalize(da['result']['records'])\n",
    "#dataa\n",
    "print(dataa.head())"
   ]
  },
  {
   "cell_type": "code",
   "execution_count": null,
   "metadata": {},
   "outputs": [],
   "source": []
  }
 ],
 "metadata": {
  "kernelspec": {
   "display_name": "Python 3",
   "language": "python",
   "name": "python3"
  },
  "language_info": {
   "codemirror_mode": {
    "name": "ipython",
    "version": 3
   },
   "file_extension": ".py",
   "mimetype": "text/x-python",
   "name": "python",
   "nbconvert_exporter": "python",
   "pygments_lexer": "ipython3",
   "version": "3.6.8"
  }
 },
 "nbformat": 4,
 "nbformat_minor": 2
}
