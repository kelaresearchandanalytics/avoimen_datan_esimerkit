{
 "cells": [
  {
   "cell_type": "code",
   "execution_count": 1,
   "metadata": {},
   "outputs": [],
   "source": [
    "from ckanapi import RemoteCKAN\n",
    "import json\n",
    "import pandas as pd\n",
    "import numpy as np\n",
    "import matplotlib.pyplot as plt\n",
    "from urllib.request import urlopen\n",
    "from pandas.io.json import json_normalize\n",
    "\n",
    "ua = 'avoindata_ckanapi_example/1.0 ({0})'\n",
    "ckan = RemoteCKAN('https://beta.avoindata.fi/data/fi/', user_agent=ua)\n",
    "packages = ckan.action.package_search(q='Kansaneläkelaitos', fq = 'title:etuuksien')\n",
    "resources = packages['results'][0]['resources'] \n",
    "url_csv = resources[0]['url']\n",
    "url_json = resources[1]['url']\n",
    "dat = pd.read_csv(url_csv, sep = ';', decimal = ',')"
   ]
  },
  {
   "cell_type": "code",
   "execution_count": 2,
   "metadata": {},
   "outputs": [],
   "source": [
    "response = urlopen(url_json)\n",
    "meta = json.loads(response.read())"
   ]
  },
  {
   "cell_type": "markdown",
   "metadata": {},
   "source": [
    "## Datan ja metadatan kuvailu\n",
    "\n",
    "**Datan kuvaustieto**"
   ]
  },
  {
   "cell_type": "code",
   "execution_count": 3,
   "metadata": {},
   "outputs": [
    {
     "name": "stdout",
     "output_type": "stream",
     "text": [
      "Aineisto sisältää tiedot Kelan maksamien etuuksien saajista, maksetuista etuuksista ja keskimääräisistä etuuksista (euroa/saaja). Raportti kattaa valtaosan Kelan maksamista etuuksista. Maksetuista etuuksista kuitenkin puuttuvat työnantajien järjestämästä työterveyshuollosta, yrittäjien työterveyshuollosta ja opiskelijoiden terveydenhuollosta maksetut korvaukset. Eläkkeistä, vammaisetuuksista, asumistuista ja elatustuesta ei tilastoida vuoden aikana etuutta saaneita henkilöitä eikä keskimääräisiä etuuksia. Näistä etuuksista tilastoidaan ainoastaan poikkileikkaushetken tiedot kuukausittain. Yleisen asumistuen tilastoinnissa saajien tilastoyksikkö on asumistuen ruokakunta, ja keskimääräinen etuus tilastoidaan asumistuen ruokakuntaa kohti. Opintolainavähennys on verovähennys, joten maksettua etuutta ei ole. Perustoimeentulotuen tilastoinnissa saajien tilastoyksikkö on toimeentulotuen kotitalous, ja keskimääräinen etuus tilastoidaan toimeentulotuen kotitaloutta kohti.\n"
     ]
    }
   ],
   "source": [
    "print(meta['description'])"
   ]
  },
  {
   "cell_type": "markdown",
   "metadata": {},
   "source": [
    "**Datan muuttujatieto**"
   ]
  },
  {
   "cell_type": "code",
   "execution_count": 4,
   "metadata": {},
   "outputs": [
    {
     "data": {
      "text/html": [
       "<div>\n",
       "<style scoped>\n",
       "    .dataframe tbody tr th:only-of-type {\n",
       "        vertical-align: middle;\n",
       "    }\n",
       "\n",
       "    .dataframe tbody tr th {\n",
       "        vertical-align: top;\n",
       "    }\n",
       "\n",
       "    .dataframe thead th {\n",
       "        text-align: right;\n",
       "    }\n",
       "</style>\n",
       "<table border=\"1\" class=\"dataframe\">\n",
       "  <thead>\n",
       "    <tr style=\"text-align: right;\">\n",
       "      <th></th>\n",
       "      <th>format</th>\n",
       "      <th>name</th>\n",
       "      <th>type</th>\n",
       "      <th>values</th>\n",
       "    </tr>\n",
       "  </thead>\n",
       "  <tbody>\n",
       "    <tr>\n",
       "      <th>0</th>\n",
       "      <td>default</td>\n",
       "      <td>kuntanumero</td>\n",
       "      <td>integer</td>\n",
       "      <td>[5, 9, 10, 16, 18, 19, 20, 35, 43, 46, 47, 49,...</td>\n",
       "    </tr>\n",
       "    <tr>\n",
       "      <th>1</th>\n",
       "      <td>default</td>\n",
       "      <td>kunta</td>\n",
       "      <td>string</td>\n",
       "      <td>[Alajärvi, Alavieska, Alavus, Asikkala, Askola...</td>\n",
       "    </tr>\n",
       "    <tr>\n",
       "      <th>2</th>\n",
       "      <td>default</td>\n",
       "      <td>aikajakso</td>\n",
       "      <td>string</td>\n",
       "      <td>[vuosi, kuukausi]</td>\n",
       "    </tr>\n",
       "    <tr>\n",
       "      <th>3</th>\n",
       "      <td>default</td>\n",
       "      <td>etuus</td>\n",
       "      <td>string</td>\n",
       "      <td>[Kuntoutus, Opintolainan korkoavustus, Yleinen...</td>\n",
       "    </tr>\n",
       "    <tr>\n",
       "      <th>4</th>\n",
       "      <td>default</td>\n",
       "      <td>saajat</td>\n",
       "      <td>number</td>\n",
       "      <td>[4, 999]</td>\n",
       "    </tr>\n",
       "    <tr>\n",
       "      <th>5</th>\n",
       "      <td>default</td>\n",
       "      <td>maksetut_etuudet_euroa</td>\n",
       "      <td>number</td>\n",
       "      <td>[-16773, 999952]</td>\n",
       "    </tr>\n",
       "    <tr>\n",
       "      <th>6</th>\n",
       "      <td>default</td>\n",
       "      <td>euroa_per_saaja</td>\n",
       "      <td>number</td>\n",
       "      <td>[-1290.2, 12083.58]</td>\n",
       "    </tr>\n",
       "    <tr>\n",
       "      <th>7</th>\n",
       "      <td>default</td>\n",
       "      <td>vuosi</td>\n",
       "      <td>integer</td>\n",
       "      <td>[2007, 2008, 2009, 2010, 2011, 2012, 2013, 201...</td>\n",
       "    </tr>\n",
       "    <tr>\n",
       "      <th>8</th>\n",
       "      <td>default</td>\n",
       "      <td>kuukausi</td>\n",
       "      <td>integer</td>\n",
       "      <td>[NA, 2, 3, 4, 5, 6, 7, 8, 9, 10, 11, 12, 1]</td>\n",
       "    </tr>\n",
       "  </tbody>\n",
       "</table>\n",
       "</div>"
      ],
      "text/plain": [
       "    format                    name     type  \\\n",
       "0  default             kuntanumero  integer   \n",
       "1  default                   kunta   string   \n",
       "2  default               aikajakso   string   \n",
       "3  default                   etuus   string   \n",
       "4  default                  saajat   number   \n",
       "5  default  maksetut_etuudet_euroa   number   \n",
       "6  default         euroa_per_saaja   number   \n",
       "7  default                   vuosi  integer   \n",
       "8  default                kuukausi  integer   \n",
       "\n",
       "                                              values  \n",
       "0  [5, 9, 10, 16, 18, 19, 20, 35, 43, 46, 47, 49,...  \n",
       "1  [Alajärvi, Alavieska, Alavus, Asikkala, Askola...  \n",
       "2                                  [vuosi, kuukausi]  \n",
       "3  [Kuntoutus, Opintolainan korkoavustus, Yleinen...  \n",
       "4                                           [4, 999]  \n",
       "5                                   [-16773, 999952]  \n",
       "6                                [-1290.2, 12083.58]  \n",
       "7  [2007, 2008, 2009, 2010, 2011, 2012, 2013, 201...  \n",
       "8        [NA, 2, 3, 4, 5, 6, 7, 8, 9, 10, 11, 12, 1]  "
      ]
     },
     "execution_count": 4,
     "metadata": {},
     "output_type": "execute_result"
    }
   ],
   "source": [
    "json_normalize(meta['resources'][0]['schema']['fields'])"
   ]
  },
  {
   "cell_type": "markdown",
   "metadata": {},
   "source": [
    "**Datan ensimmäiset rivit**"
   ]
  },
  {
   "cell_type": "code",
   "execution_count": 5,
   "metadata": {},
   "outputs": [
    {
     "name": "stdout",
     "output_type": "stream",
     "text": [
      "   kuntanumero      kunta aikajakso      etuus  saajat  \\\n",
      "0            5   Alajärvi     vuosi  Kuntoutus   210.0   \n",
      "1            9  Alavieska     vuosi  Kuntoutus    41.0   \n",
      "2           10     Alavus     vuosi  Kuntoutus   240.0   \n",
      "3           16   Asikkala     vuosi  Kuntoutus   119.0   \n",
      "4           18     Askola     vuosi  Kuntoutus    52.0   \n",
      "\n",
      "   maksetut_etuudet_euroa  euroa_per_saaja  vuosi  kuukausi  \n",
      "0                495806.0          2360.98   2007       NaN  \n",
      "1                143525.0          3500.61   2007       NaN  \n",
      "2                612924.0          2553.85   2007       NaN  \n",
      "3                299271.0          2514.88   2007       NaN  \n",
      "4                175090.0          3367.12   2007       NaN  \n"
     ]
    }
   ],
   "source": [
    "print(dat.head())"
   ]
  },
  {
   "cell_type": "code",
   "execution_count": 8,
   "metadata": {},
   "outputs": [],
   "source": [
    "plotdat = (dat\n",
    " .query('aikajakso == \"vuosi\"')\n",
    " .query('vuosi == 2017')\n",
    " .query('etuus == \"Kuntoutus\"')\n",
    " .sort_values(by='euroa_per_saaja', ascending=False)\n",
    " .head(20))\n",
    "\n",
    "#plt.bar(plotdat, height = )"
   ]
  },
  {
   "cell_type": "markdown",
   "metadata": {},
   "source": [
    "## Kuvio"
   ]
  },
  {
   "cell_type": "code",
   "execution_count": 9,
   "metadata": {},
   "outputs": [
    {
     "data": {
      "text/plain": [
       "<BarContainer object of 20 artists>"
      ]
     },
     "execution_count": 9,
     "metadata": {},
     "output_type": "execute_result"
    },
    {
     "data": {
      "image/png": "[encoded data removed]",
      "text/plain": [
       "<Figure size 432x288 with 1 Axes>"
      ]
     },
     "metadata": {
      "needs_background": "light"
     },
     "output_type": "display_data"
    }
   ],
   "source": [
    "plt.bar(plotdat['kunta'], plotdat['euroa_per_saaja'])"
   ]
  },
  {
   "cell_type": "markdown",
   "metadata": {},
   "source": [
    "## Datastore-api\n",
    "\n",
    "Jos et tarvitse koko aineistoa, voit suodattaa siitä osio SQL:llä käyttäen CKAN:n DataStore-rajapintaa.\n",
    "\n",
    "Alla olevassa esimerkissä tehdään rajaus `kunta`-muuttujasta ja siis etsitään vaan kuntaa *Veteli* koskevat tiedot."
   ]
  },
  {
   "cell_type": "code",
   "execution_count": 10,
   "metadata": {},
   "outputs": [
    {
     "name": "stdout",
     "output_type": "stream",
     "text": [
      "                                          _full_text  _id aikajakso  \\\n",
      "0  '2007':9 '210':5 '2360':7 '495806':6 '5':1 '98...    1     vuosi   \n",
      "1  '143525':6 '2007':9 '3500':7 '41':5 '61':8 '9'...    2     vuosi   \n",
      "2  '10':1 '2007':9 '240':5 '2553':7 '612924':6 '8...    3     vuosi   \n",
      "3  '119':5 '16':1 '2007':9 '2514':7 '299271':6 '8...    4     vuosi   \n",
      "4  '12':8 '175090':6 '18':1 '2007':9 '3367':7 '52...    5     vuosi   \n",
      "\n",
      "       etuus euroa_per_saaja      kunta kuntanumero kuukausi  \\\n",
      "0  Kuntoutus         2360,98   Alajärvi           5       NA   \n",
      "1  Kuntoutus         3500,61  Alavieska           9       NA   \n",
      "2  Kuntoutus         2553,85     Alavus          10       NA   \n",
      "3  Kuntoutus         2514,88   Asikkala          16       NA   \n",
      "4  Kuntoutus         3367,12     Askola          18       NA   \n",
      "\n",
      "  maksetut_etuudet_euroa saajat vuosi  \n",
      "0                 495806    210  2007  \n",
      "1                 143525     41  2007  \n",
      "2                 612924    240  2007  \n",
      "3                 299271    119  2007  \n",
      "4                 175090     52  2007  \n"
     ]
    }
   ],
   "source": [
    "kunta = \"Veteli\"\n",
    "taulu = resources[0]['id']\n",
    "muuttuja = 'kunta'\n",
    "urli = f'https://beta.avoindata.fi/data/fi/data/api/3/action/datastore_search_sql?sql=SELECT * from \"{taulu}\" WHERE {muuttuja} LIKE \\'{kunta}\\''\n",
    "urli_plain = f'https://beta.avoindata.fi/data/fi/data/api/3/action/datastore_search_sql?sql=SELECT * from \"{taulu}\"'\n",
    "#urli = \"https://beta.avoindata.fi/data/fi/data/api/3/action/datastore_search_sql?sql=SELECT * from \\\"%s\\\" WHERE %s LIKE '%s'\" % (taulu, muuttuja, kunta)\n",
    "#urli_plain = \"https://beta.avoindata.fi/data/fi/data/api/3/action/datastore_search_sql?sql=SELECT * from \\\"%s\\\"\" % (taulu)\n",
    "response = urlopen(urli_plain)\n",
    "da = json.loads(response.read())\n",
    "dataa = json_normalize(da['result']['records'])\n",
    "#dataa\n",
    "print(dataa.head())"
   ]
  },
  {
   "cell_type": "code",
   "execution_count": null,
   "metadata": {},
   "outputs": [],
   "source": []
  }
 ],
 "metadata": {
  "kernelspec": {
   "display_name": "Python 3",
   "language": "python",
   "name": "python3"
  },
  "language_info": {
   "codemirror_mode": {
    "name": "ipython",
    "version": 3
   },
   "file_extension": ".py",
   "mimetype": "text/x-python",
   "name": "python",
   "nbconvert_exporter": "python",
   "pygments_lexer": "ipython3",
   "version": "3.6.8"
  }
 },
 "nbformat": 4,
 "nbformat_minor": 2
}
