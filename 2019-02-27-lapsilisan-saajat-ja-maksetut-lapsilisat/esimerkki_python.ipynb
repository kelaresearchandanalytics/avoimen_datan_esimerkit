{
 "cells": [
  {
   "cell_type": "code",
   "execution_count": 1,
   "metadata": {},
   "outputs": [],
   "source": [
    "from ckanapi import RemoteCKAN\n",
    "import json\n",
    "import pandas as pd\n",
    "import numpy as np\n",
    "import matplotlib.pyplot as plt\n",
    "from urllib.request import urlopen\n",
    "from pandas.io.json import json_normalize\n",
    "\n",
    "ua = 'avoindata_ckanapi_example/1.0 ({0})'\n",
    "ckan = RemoteCKAN('https://beta.avoindata.fi/data/fi/', user_agent=ua)\n",
    "packages = ckan.action.package_search(q='Kansaneläkelaitos', fq = 'title:lapsilisän')\n",
    "resources = packages['results'][0]['resources'] \n",
    "url_csv = resources[0]['url']\n",
    "url_json = resources[1]['url']\n",
    "dat = pd.read_csv(url_csv, sep = ';', decimal = ',')"
   ]
  },
  {
   "cell_type": "code",
   "execution_count": 2,
   "metadata": {},
   "outputs": [],
   "source": [
    "response = urlopen(url_json)\n",
    "meta = json.loads(response.read())"
   ]
  },
  {
   "cell_type": "markdown",
   "metadata": {},
   "source": [
    "## Datan ja metadatan kuvailu\n",
    "\n",
    "**Datan kuvaustieto**"
   ]
  },
  {
   "cell_type": "code",
   "execution_count": 3,
   "metadata": {},
   "outputs": [
    {
     "name": "stdout",
     "output_type": "stream",
     "text": [
      "Raportilla on tiedot lapsilisää saaneiden perheiden ja lasten määrästä sekä maksetuista lapsilisistä. Tiedot saadaan muun muassa perhetyypin ja perheen lapsiluvun mukaan. Tieto yksinhuoltajuudesta perustuu siihen, onko saajalle maksettu yksinhuoltajakorotus. Lapsilisä on yksi lakisääteisistä etuuksista, joilla yhteiskunta pyrkii tasaamaan lapsen perheille aiheuttamia kustannuksia. Lapsilisää maksetaan jokaisesta Suomessa asuvasta alle 17-vuotiaasta lapsesta. Se maksetaan lapsen vanhemmalle tai huoltajalle.\n"
     ]
    }
   ],
   "source": [
    "print(meta['description'])"
   ]
  },
  {
   "cell_type": "markdown",
   "metadata": {},
   "source": [
    "**Datan muuttujatieto**"
   ]
  },
  {
   "cell_type": "code",
   "execution_count": 4,
   "metadata": {},
   "outputs": [
    {
     "data": {
      "text/html": [
       "<div>\n",
       "<style scoped>\n",
       "    .dataframe tbody tr th:only-of-type {\n",
       "        vertical-align: middle;\n",
       "    }\n",
       "\n",
       "    .dataframe tbody tr th {\n",
       "        vertical-align: top;\n",
       "    }\n",
       "\n",
       "    .dataframe thead th {\n",
       "        text-align: right;\n",
       "    }\n",
       "</style>\n",
       "<table border=\"1\" class=\"dataframe\">\n",
       "  <thead>\n",
       "    <tr style=\"text-align: right;\">\n",
       "      <th></th>\n",
       "      <th>format</th>\n",
       "      <th>name</th>\n",
       "      <th>type</th>\n",
       "    </tr>\n",
       "  </thead>\n",
       "  <tbody>\n",
       "    <tr>\n",
       "      <th>0</th>\n",
       "      <td>default</td>\n",
       "      <td>kuntanumero</td>\n",
       "      <td>integer</td>\n",
       "    </tr>\n",
       "    <tr>\n",
       "      <th>1</th>\n",
       "      <td>default</td>\n",
       "      <td>kunta</td>\n",
       "      <td>string</td>\n",
       "    </tr>\n",
       "    <tr>\n",
       "      <th>2</th>\n",
       "      <td>default</td>\n",
       "      <td>aikajakso</td>\n",
       "      <td>string</td>\n",
       "    </tr>\n",
       "    <tr>\n",
       "      <th>3</th>\n",
       "      <td>default</td>\n",
       "      <td>aika</td>\n",
       "      <td>integer</td>\n",
       "    </tr>\n",
       "    <tr>\n",
       "      <th>4</th>\n",
       "      <td>default</td>\n",
       "      <td>sukupuoli</td>\n",
       "      <td>string</td>\n",
       "    </tr>\n",
       "    <tr>\n",
       "      <th>5</th>\n",
       "      <td>default</td>\n",
       "      <td>perhetyyppi</td>\n",
       "      <td>string</td>\n",
       "    </tr>\n",
       "    <tr>\n",
       "      <th>6</th>\n",
       "      <td>default</td>\n",
       "      <td>saajat</td>\n",
       "      <td>integer</td>\n",
       "    </tr>\n",
       "    <tr>\n",
       "      <th>7</th>\n",
       "      <td>default</td>\n",
       "      <td>lapset</td>\n",
       "      <td>integer</td>\n",
       "    </tr>\n",
       "    <tr>\n",
       "      <th>8</th>\n",
       "      <td>default</td>\n",
       "      <td>maksetut_etuudet_euroa</td>\n",
       "      <td>integer</td>\n",
       "    </tr>\n",
       "    <tr>\n",
       "      <th>9</th>\n",
       "      <td>default</td>\n",
       "      <td>lapsilisat_euroa_perhe</td>\n",
       "      <td>number</td>\n",
       "    </tr>\n",
       "    <tr>\n",
       "      <th>10</th>\n",
       "      <td>default</td>\n",
       "      <td>lapsilisat_euroa_lapsi</td>\n",
       "      <td>number</td>\n",
       "    </tr>\n",
       "  </tbody>\n",
       "</table>\n",
       "</div>"
      ],
      "text/plain": [
       "     format                    name     type\n",
       "0   default             kuntanumero  integer\n",
       "1   default                   kunta   string\n",
       "2   default               aikajakso   string\n",
       "3   default                    aika  integer\n",
       "4   default               sukupuoli   string\n",
       "5   default             perhetyyppi   string\n",
       "6   default                  saajat  integer\n",
       "7   default                  lapset  integer\n",
       "8   default  maksetut_etuudet_euroa  integer\n",
       "9   default  lapsilisat_euroa_perhe   number\n",
       "10  default  lapsilisat_euroa_lapsi   number"
      ]
     },
     "execution_count": 4,
     "metadata": {},
     "output_type": "execute_result"
    }
   ],
   "source": [
    "json_normalize(meta['resources'][0]['schema']['fields'])"
   ]
  },
  {
   "cell_type": "markdown",
   "metadata": {},
   "source": [
    "**Datan ensimmäiset rivit**"
   ]
  },
  {
   "cell_type": "code",
   "execution_count": 5,
   "metadata": {},
   "outputs": [
    {
     "name": "stdout",
     "output_type": "stream",
     "text": [
      "   kuntanumero     kunta aikajakso  aika sukupuoli               perhetyyppi  \\\n",
      "0            5  Alajärvi     vuosi  2008  Yhteensä                  Yhteensä   \n",
      "1            5  Alajärvi     vuosi  2008  Yhteensä   Yhden vanhemman perheet   \n",
      "2            5  Alajärvi     vuosi  2008  Yhteensä  Kahden vanhemman perheet   \n",
      "3            5  Alajärvi     vuosi  2008    Miehet                  Yhteensä   \n",
      "4            5  Alajärvi     vuosi  2008    Miehet   Yhden vanhemman perheet   \n",
      "\n",
      "   saajat  lapset  maksetut_etuudet_euroa  lapsilisat_euroa_perhe  \\\n",
      "0  1115.0  2466.0                  1115.0                 2965.57   \n",
      "1   137.0   221.0                   137.0                 2420.01   \n",
      "2  1002.0  2292.0                  1002.0                 2968.59   \n",
      "3    48.0    85.0                    48.0                 2281.46   \n",
      "4    29.0    40.0                    29.0                 1810.41   \n",
      "\n",
      "   lapsilisat_euroa_lapsi  \n",
      "0                 1340.11  \n",
      "1                 1502.84  \n",
      "2                 1297.63  \n",
      "3                 1307.66  \n",
      "4                 1346.21  \n"
     ]
    }
   ],
   "source": [
    "print(dat.head())"
   ]
  },
  {
   "cell_type": "code",
   "execution_count": 16,
   "metadata": {},
   "outputs": [],
   "source": [
    "plotdat = (dat\n",
    " .query('aikajakso == \"vuosi\"')\n",
    " .query('aika == \"2018\"')\n",
    " .query('perhetyyppi == \"Yhteensä\"')\n",
    " .query('sukupuoli == \"Yhteensä\"')\n",
    " .sort_values(by='lapsilisat_euroa_perhe', ascending=False)\n",
    " .head(20))\n",
    "\n",
    "#plt.bar(plotdat, height = )"
   ]
  },
  {
   "cell_type": "markdown",
   "metadata": {},
   "source": [
    "## Kuvio"
   ]
  },
  {
   "cell_type": "code",
   "execution_count": 17,
   "metadata": {},
   "outputs": [
    {
     "data": {
      "text/plain": [
       "<BarContainer object of 20 artists>"
      ]
     },
     "execution_count": 17,
     "metadata": {},
     "output_type": "execute_result"
    },
    {
     "data": {
      "image/png": "[encoded data removed]",
      "text/plain": [
       "<Figure size 432x288 with 1 Axes>"
      ]
     },
     "metadata": {
      "needs_background": "light"
     },
     "output_type": "display_data"
    }
   ],
   "source": [
    "plt.bar(plotdat['kunta'], plotdat['lapsilisat_euroa_perhe'])"
   ]
  },
  {
   "cell_type": "markdown",
   "metadata": {},
   "source": [
    "## Datastore-api\n",
    "\n",
    "Jos et tarvitse koko aineistoa, voit suodattaa siitä osio SQL:llä käyttäen CKAN:n DataStore-rajapintaa.\n",
    "\n",
    "Alla olevassa esimerkissä tehdään rajaus `kunta`-muuttujasta ja siis etsitään vaan kuntaa *Veteli* koskevat tiedot."
   ]
  },
  {
   "cell_type": "code",
   "execution_count": 18,
   "metadata": {},
   "outputs": [
    {
     "name": "stdout",
     "output_type": "stream",
     "text": [
      "                                          _full_text  _id  aika aikajakso  \\\n",
      "0  '11':13 '1115':7,9 '1340':12 '2008':4 '2466':8...    1  2008     vuosi   \n",
      "1  '01':13 '137':9,11 '1502':14 '2008':4 '221':10...    2  2008     vuosi   \n",
      "2  '1002':9,11 '1297':14 '2008':4 '2292':10 '2968...    3  2008     vuosi   \n",
      "3  '1307':12 '2008':4 '2281':10 '46':11 '48':7,9 ...    4  2008     vuosi   \n",
      "4  '1346':14 '1810':12 '2008':4 '21':15 '29':9,11...    5  2008     vuosi   \n",
      "\n",
      "      kunta kuntanumero  lapset lapsilisat_euroa_lapsi lapsilisat_euroa_perhe  \\\n",
      "0  Alajärvi           5    2466                1340,11                2965,57   \n",
      "1  Alajärvi           5     221                1502,84                2420,01   \n",
      "2  Alajärvi           5    2292                1297,63                2968,59   \n",
      "3  Alajärvi           5      85                1307,66                2281,46   \n",
      "4  Alajärvi           5      40                1346,21                1810,41   \n",
      "\n",
      "  maksetut_etuudet_euroa               perhetyyppi saajat sukupuoli  \n",
      "0                   1115                  Yhteensä   1115  Yhteensä  \n",
      "1                    137   Yhden vanhemman perheet    137  Yhteensä  \n",
      "2                   1002  Kahden vanhemman perheet   1002  Yhteensä  \n",
      "3                     48                  Yhteensä     48    Miehet  \n",
      "4                     29   Yhden vanhemman perheet     29    Miehet  \n"
     ]
    }
   ],
   "source": [
    "kunta = \"Veteli\"\n",
    "taulu = resources[0]['id']\n",
    "muuttuja = 'kunta'\n",
    "urli = f'https://beta.avoindata.fi/data/fi/data/api/3/action/datastore_search_sql?sql=SELECT * from \"{taulu}\" WHERE {muuttuja} LIKE \\'{kunta}\\''\n",
    "urli_plain = f'https://beta.avoindata.fi/data/fi/data/api/3/action/datastore_search_sql?sql=SELECT * from \"{taulu}\"'\n",
    "#urli = \"https://beta.avoindata.fi/data/fi/data/api/3/action/datastore_search_sql?sql=SELECT * from \\\"%s\\\" WHERE %s LIKE '%s'\" % (taulu, muuttuja, kunta)\n",
    "#urli_plain = \"https://beta.avoindata.fi/data/fi/data/api/3/action/datastore_search_sql?sql=SELECT * from \\\"%s\\\"\" % (taulu)\n",
    "response = urlopen(urli_plain)\n",
    "da = json.loads(response.read())\n",
    "dataa = json_normalize(da['result']['records'])\n",
    "#dataa\n",
    "print(dataa.head())"
   ]
  },
  {
   "cell_type": "code",
   "execution_count": null,
   "metadata": {},
   "outputs": [],
   "source": []
  }
 ],
 "metadata": {
  "kernelspec": {
   "display_name": "Python 3",
   "language": "python",
   "name": "python3"
  },
  "language_info": {
   "codemirror_mode": {
    "name": "ipython",
    "version": 3
   },
   "file_extension": ".py",
   "mimetype": "text/x-python",
   "name": "python",
   "nbconvert_exporter": "python",
   "pygments_lexer": "ipython3",
   "version": "3.6.8"
  }
 },
 "nbformat": 4,
 "nbformat_minor": 2
}
