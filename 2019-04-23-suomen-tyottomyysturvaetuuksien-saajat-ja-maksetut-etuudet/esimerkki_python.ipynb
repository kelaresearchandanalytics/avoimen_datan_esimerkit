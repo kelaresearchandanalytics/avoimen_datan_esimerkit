{
 "cells": [
  {
   "cell_type": "code",
   "execution_count": 1,
   "metadata": {},
   "outputs": [],
   "source": [
    "from ckanapi import RemoteCKAN\n",
    "import json\n",
    "import pandas as pd\n",
    "import numpy as np\n",
    "import matplotlib.pyplot as plt\n",
    "from urllib.request import urlopen\n",
    "from pandas.io.json import json_normalize\n",
    "\n",
    "ua = 'avoindata_ckanapi_example/1.0 ({0})'\n",
    "ckan = RemoteCKAN('https://beta.avoindata.fi/data/fi/', user_agent=ua)\n",
    "packages = ckan.action.package_search(q='Kansaneläkelaitos', fq = 'title:työttömyysturvaetuuksien')\n",
    "resources = packages['results'][0]['resources'] \n",
    "url_csv = resources[0]['url']\n",
    "url_json = resources[1]['url']\n",
    "dat = pd.read_csv(url_csv, sep = ';', decimal = ',')"
   ]
  },
  {
   "cell_type": "code",
   "execution_count": 2,
   "metadata": {},
   "outputs": [],
   "source": [
    "response = urlopen(url_json)\n",
    "meta = json.loads(response.read())"
   ]
  },
  {
   "cell_type": "markdown",
   "metadata": {},
   "source": [
    "## Datan ja metadatan kuvailu\n",
    "\n",
    "**Datan kuvaustieto**"
   ]
  },
  {
   "cell_type": "code",
   "execution_count": 3,
   "metadata": {},
   "outputs": [
    {
     "name": "stdout",
     "output_type": "stream",
     "text": [
      "Raportilla on Suomen työttömyysturvaetuuksien saajat, maksetut etuudet sekä korvatut päivät tilastointiajanjakson aikana. Euroa/päivä-tieto on laskettu jakamalla maksetut etuudet korvatuilla päivillä. Raportilla on sekä työttömyyskassojen maksamat ansioturvan etuudet että Kelan maksamat perusturvan etuudet. Korvausperusteluokitus jakaa etuudet työttömyysajalta ja aktiivitoimenpiteen ajalta maksettuihin etuuksiin. Vuorottelukorvaukset ovat luokassa 'Muu peruste'. Tieto puuttuu -luokkaan on tilastoitu Kelan etuuksien palautukset, joille ei tiedetä korvausperustetta. Huomattavaa: Työttömyyspäivärahoja alettiin maksaa aktiivitoimenpiteiden ajalta vuodesta 2010 alkaen.\n"
     ]
    }
   ],
   "source": [
    "print(meta['description'])"
   ]
  },
  {
   "cell_type": "markdown",
   "metadata": {},
   "source": [
    "**Datan muuttujatieto**"
   ]
  },
  {
   "cell_type": "code",
   "execution_count": 4,
   "metadata": {},
   "outputs": [
    {
     "data": {
      "text/html": [
       "<div>\n",
       "<style scoped>\n",
       "    .dataframe tbody tr th:only-of-type {\n",
       "        vertical-align: middle;\n",
       "    }\n",
       "\n",
       "    .dataframe tbody tr th {\n",
       "        vertical-align: top;\n",
       "    }\n",
       "\n",
       "    .dataframe thead th {\n",
       "        text-align: right;\n",
       "    }\n",
       "</style>\n",
       "<table border=\"1\" class=\"dataframe\">\n",
       "  <thead>\n",
       "    <tr style=\"text-align: right;\">\n",
       "      <th></th>\n",
       "      <th>format</th>\n",
       "      <th>name</th>\n",
       "      <th>type</th>\n",
       "      <th>values</th>\n",
       "    </tr>\n",
       "  </thead>\n",
       "  <tbody>\n",
       "    <tr>\n",
       "      <th>0</th>\n",
       "      <td>default</td>\n",
       "      <td>kuntanumero</td>\n",
       "      <td>integer</td>\n",
       "      <td>[5, 9, 10, 16, 18, 19, 20, 35, 43, 46, 47, 49,...</td>\n",
       "    </tr>\n",
       "    <tr>\n",
       "      <th>1</th>\n",
       "      <td>default</td>\n",
       "      <td>kunta</td>\n",
       "      <td>string</td>\n",
       "      <td>[Alajärvi, Alavieska, Alavus, Asikkala, Askola...</td>\n",
       "    </tr>\n",
       "    <tr>\n",
       "      <th>2</th>\n",
       "      <td>default</td>\n",
       "      <td>aikajakso</td>\n",
       "      <td>string</td>\n",
       "      <td>vuosi</td>\n",
       "    </tr>\n",
       "    <tr>\n",
       "      <th>3</th>\n",
       "      <td>default</td>\n",
       "      <td>etuuslaji</td>\n",
       "      <td>string</td>\n",
       "      <td>[Yhteensä, Ansioturva yhteensä, Ansiopäiväraha...</td>\n",
       "    </tr>\n",
       "    <tr>\n",
       "      <th>4</th>\n",
       "      <td>default</td>\n",
       "      <td>korvausperuste</td>\n",
       "      <td>string</td>\n",
       "      <td>[Yhteensä, Työttömyyden perusteella]</td>\n",
       "    </tr>\n",
       "    <tr>\n",
       "      <th>5</th>\n",
       "      <td>default</td>\n",
       "      <td>sukupuoli</td>\n",
       "      <td>string</td>\n",
       "      <td>Yhteensä</td>\n",
       "    </tr>\n",
       "    <tr>\n",
       "      <th>6</th>\n",
       "      <td>default</td>\n",
       "      <td>ikaryhma</td>\n",
       "      <td>string</td>\n",
       "      <td>Yhteensä</td>\n",
       "    </tr>\n",
       "    <tr>\n",
       "      <th>7</th>\n",
       "      <td>default</td>\n",
       "      <td>saajat</td>\n",
       "      <td>number</td>\n",
       "      <td>[4, 47203]</td>\n",
       "    </tr>\n",
       "    <tr>\n",
       "      <th>8</th>\n",
       "      <td>default</td>\n",
       "      <td>maksetut_etuudet_euroa</td>\n",
       "      <td>number</td>\n",
       "      <td>[-34096, 999983]</td>\n",
       "    </tr>\n",
       "    <tr>\n",
       "      <th>9</th>\n",
       "      <td>default</td>\n",
       "      <td>korvatut_paivat</td>\n",
       "      <td>number</td>\n",
       "      <td>[-136, 999040]</td>\n",
       "    </tr>\n",
       "    <tr>\n",
       "      <th>10</th>\n",
       "      <td>default</td>\n",
       "      <td>euroa_paiva</td>\n",
       "      <td>number</td>\n",
       "      <td>[5.47, 295.25]</td>\n",
       "    </tr>\n",
       "    <tr>\n",
       "      <th>11</th>\n",
       "      <td>default</td>\n",
       "      <td>vuosi</td>\n",
       "      <td>integer</td>\n",
       "      <td>[2000, 2001, 2002, 2003, 2004, 2005, 2006, 200...</td>\n",
       "    </tr>\n",
       "    <tr>\n",
       "      <th>12</th>\n",
       "      <td>default</td>\n",
       "      <td>kuukausi</td>\n",
       "      <td>string</td>\n",
       "      <td>NaN</td>\n",
       "    </tr>\n",
       "  </tbody>\n",
       "</table>\n",
       "</div>"
      ],
      "text/plain": [
       "     format                    name     type  \\\n",
       "0   default             kuntanumero  integer   \n",
       "1   default                   kunta   string   \n",
       "2   default               aikajakso   string   \n",
       "3   default               etuuslaji   string   \n",
       "4   default          korvausperuste   string   \n",
       "5   default               sukupuoli   string   \n",
       "6   default                ikaryhma   string   \n",
       "7   default                  saajat   number   \n",
       "8   default  maksetut_etuudet_euroa   number   \n",
       "9   default         korvatut_paivat   number   \n",
       "10  default             euroa_paiva   number   \n",
       "11  default                   vuosi  integer   \n",
       "12  default                kuukausi   string   \n",
       "\n",
       "                                               values  \n",
       "0   [5, 9, 10, 16, 18, 19, 20, 35, 43, 46, 47, 49,...  \n",
       "1   [Alajärvi, Alavieska, Alavus, Asikkala, Askola...  \n",
       "2                                               vuosi  \n",
       "3   [Yhteensä, Ansioturva yhteensä, Ansiopäiväraha...  \n",
       "4                [Yhteensä, Työttömyyden perusteella]  \n",
       "5                                            Yhteensä  \n",
       "6                                            Yhteensä  \n",
       "7                                          [4, 47203]  \n",
       "8                                    [-34096, 999983]  \n",
       "9                                      [-136, 999040]  \n",
       "10                                     [5.47, 295.25]  \n",
       "11  [2000, 2001, 2002, 2003, 2004, 2005, 2006, 200...  \n",
       "12                                                NaN  "
      ]
     },
     "execution_count": 4,
     "metadata": {},
     "output_type": "execute_result"
    }
   ],
   "source": [
    "json_normalize(meta['resources'][0]['schema']['fields'])"
   ]
  },
  {
   "cell_type": "markdown",
   "metadata": {},
   "source": [
    "**Datan ensimmäiset rivit**"
   ]
  },
  {
   "cell_type": "code",
   "execution_count": 5,
   "metadata": {},
   "outputs": [
    {
     "name": "stdout",
     "output_type": "stream",
     "text": [
      "   kuntanumero      kunta aikajakso etuuslaji            korvausperuste  \\\n",
      "0            5   Alajärvi     vuosi  Yhteensä                  Yhteensä   \n",
      "1            5   Alajärvi     vuosi  Yhteensä  Työttömyyden perusteella   \n",
      "2            9  Alavieska     vuosi  Yhteensä                  Yhteensä   \n",
      "3            9  Alavieska     vuosi  Yhteensä  Työttömyyden perusteella   \n",
      "4           10     Alavus     vuosi  Yhteensä                  Yhteensä   \n",
      "\n",
      "  sukupuoli  ikaryhma  saajat  maksetut_etuudet_euroa  korvatut_paivat  \\\n",
      "0  Yhteensä  Yhteensä     NaN                     NaN         186371.0   \n",
      "1  Yhteensä  Yhteensä     NaN                     NaN         152208.0   \n",
      "2  Yhteensä  Yhteensä     NaN                     NaN          38092.0   \n",
      "3  Yhteensä  Yhteensä     NaN                907594.0          33308.0   \n",
      "4  Yhteensä  Yhteensä     NaN                     NaN         191112.0   \n",
      "\n",
      "   euroa_paiva  vuosi  kuukausi  \n",
      "0        27.04   2000       NaN  \n",
      "1        26.91   2000       NaN  \n",
      "2        27.34   2000       NaN  \n",
      "3        27.25   2000       NaN  \n",
      "4        26.26   2000       NaN  \n"
     ]
    }
   ],
   "source": [
    "print(dat.head())"
   ]
  },
  {
   "cell_type": "code",
   "execution_count": 6,
   "metadata": {},
   "outputs": [],
   "source": [
    "plotdat = (dat\n",
    " .query('aikajakso == \"vuosi\"')\n",
    " .query('vuosi == \"2018\"')\n",
    " .query('etuuslaji == \"Ansiopäiväraha\"')\n",
    " .query('korvausperuste == \"Yhteensä\"')\n",
    " .query('sukupuoli == \"Yhteensä\"')\n",
    " .sort_values(by='euroa_paiva', ascending=False)\n",
    " .head(20))\n",
    "\n",
    "#plt.bar(plotdat, height = )"
   ]
  },
  {
   "cell_type": "markdown",
   "metadata": {},
   "source": [
    "## Kuvio"
   ]
  },
  {
   "cell_type": "code",
   "execution_count": 7,
   "metadata": {},
   "outputs": [
    {
     "data": {
      "text/plain": [
       "<BarContainer object of 20 artists>"
      ]
     },
     "execution_count": 7,
     "metadata": {},
     "output_type": "execute_result"
    },
    {
     "data": {
      "image/png": "[encoded data removed]",
      "text/plain": [
       "<Figure size 432x288 with 1 Axes>"
      ]
     },
     "metadata": {
      "needs_background": "light"
     },
     "output_type": "display_data"
    }
   ],
   "source": [
    "plt.bar(plotdat['kunta'], plotdat['euroa_paiva'])"
   ]
  },
  {
   "cell_type": "markdown",
   "metadata": {},
   "source": [
    "## Datastore-api\n",
    "\n",
    "Jos et tarvitse koko aineistoa, voit suodattaa siitä osio SQL:llä käyttäen CKAN:n DataStore-rajapintaa.\n",
    "\n",
    "Alla olevassa esimerkissä tehdään rajaus `kunta`-muuttujasta ja siis etsitään vaan kuntaa *Veteli* koskevat tiedot."
   ]
  },
  {
   "cell_type": "code",
   "execution_count": 8,
   "metadata": {},
   "outputs": [
    {
     "name": "stdout",
     "output_type": "stream",
     "text": [
      "                                          _full_text  _id aikajakso etuuslaji  \\\n",
      "0  '04':12 '186371':10 '2000':13 '27':11 '5':1 'a...    1     vuosi  Yhteensä   \n",
      "1  '152208':11 '2000':14 '26':12 '5':1 '91':13 'a...    2     vuosi  Yhteensä   \n",
      "2  '2000':13 '27':11 '34':12 '38092':10 '9':1 'al...    3     vuosi  Yhteensä   \n",
      "3  '2000':14 '25':13 '27':12 '33308':11 '9':1 '90...    4     vuosi  Yhteensä   \n",
      "4  '10':1 '191112':10 '2000':13 '26':11,12 'alavu...    5     vuosi  Yhteensä   \n",
      "\n",
      "  euroa_paiva  ikaryhma korvatut_paivat            korvausperuste      kunta  \\\n",
      "0       27,04  Yhteensä          186371                  Yhteensä   Alajärvi   \n",
      "1       26,91  Yhteensä          152208  Työttömyyden perusteella   Alajärvi   \n",
      "2       27,34  Yhteensä           38092                  Yhteensä  Alavieska   \n",
      "3       27,25  Yhteensä           33308  Työttömyyden perusteella  Alavieska   \n",
      "4       26,26  Yhteensä          191112                  Yhteensä     Alavus   \n",
      "\n",
      "  kuntanumero kuukausi maksetut_etuudet_euroa saajat sukupuoli vuosi  \n",
      "0           5       NA                     NA     NA  Yhteensä  2000  \n",
      "1           5       NA                     NA     NA  Yhteensä  2000  \n",
      "2           9       NA                     NA     NA  Yhteensä  2000  \n",
      "3           9       NA                 907594     NA  Yhteensä  2000  \n",
      "4          10       NA                     NA     NA  Yhteensä  2000  \n"
     ]
    }
   ],
   "source": [
    "kunta = \"Veteli\"\n",
    "taulu = resources[0]['id']\n",
    "muuttuja = 'kunta'\n",
    "urli = f'https://beta.avoindata.fi/data/fi/data/api/3/action/datastore_search_sql?sql=SELECT * from \"{taulu}\" WHERE {muuttuja} LIKE \\'{kunta}\\''\n",
    "urli_plain = f'https://beta.avoindata.fi/data/fi/data/api/3/action/datastore_search_sql?sql=SELECT * from \"{taulu}\"'\n",
    "#urli = \"https://beta.avoindata.fi/data/fi/data/api/3/action/datastore_search_sql?sql=SELECT * from \\\"%s\\\" WHERE %s LIKE '%s'\" % (taulu, muuttuja, kunta)\n",
    "#urli_plain = \"https://beta.avoindata.fi/data/fi/data/api/3/action/datastore_search_sql?sql=SELECT * from \\\"%s\\\"\" % (taulu)\n",
    "response = urlopen(urli_plain)\n",
    "da = json.loads(response.read())\n",
    "dataa = json_normalize(da['result']['records'])\n",
    "#dataa\n",
    "print(dataa.head())"
   ]
  },
  {
   "cell_type": "code",
   "execution_count": null,
   "metadata": {},
   "outputs": [],
   "source": []
  }
 ],
 "metadata": {
  "kernelspec": {
   "display_name": "Python 3",
   "language": "python",
   "name": "python3"
  },
  "language_info": {
   "codemirror_mode": {
    "name": "ipython",
    "version": 3
   },
   "file_extension": ".py",
   "mimetype": "text/x-python",
   "name": "python",
   "nbconvert_exporter": "python",
   "pygments_lexer": "ipython3",
   "version": "3.6.8"
  }
 },
 "nbformat": 4,
 "nbformat_minor": 2
}
