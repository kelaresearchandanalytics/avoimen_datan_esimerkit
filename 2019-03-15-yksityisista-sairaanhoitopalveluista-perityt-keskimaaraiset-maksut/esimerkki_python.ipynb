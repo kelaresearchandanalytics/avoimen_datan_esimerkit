{
 "cells": [
  {
   "cell_type": "code",
   "execution_count": 8,
   "metadata": {},
   "outputs": [],
   "source": [
    "from ckanapi import RemoteCKAN\n",
    "import json\n",
    "import pandas as pd\n",
    "import numpy as np\n",
    "import matplotlib.pyplot as plt\n",
    "from urllib.request import urlopen\n",
    "from pandas.io.json import json_normalize\n",
    "\n",
    "ua = 'avoindata_ckanapi_example/1.0 ({0})'\n",
    "ckan = RemoteCKAN('https://beta.avoindata.fi/data/fi/', user_agent=ua)\n",
    "packages = ckan.action.package_search(q='Kansaneläkelaitos', fq = 'title:yksityisistä sairaanhoito')\n",
    "resources = packages['results'][0]['resources'] \n",
    "url_csv = resources[0]['url']\n",
    "url_json = resources[1]['url']\n",
    "dat = pd.read_csv(url_csv, sep = ';', decimal = ',')"
   ]
  },
  {
   "cell_type": "code",
   "execution_count": 9,
   "metadata": {},
   "outputs": [],
   "source": [
    "response = urlopen(url_json)\n",
    "meta = json.loads(response.read())"
   ]
  },
  {
   "cell_type": "markdown",
   "metadata": {},
   "source": [
    "## Datan ja metadatan kuvailu\n",
    "\n",
    "**Datan kuvaustieto**"
   ]
  },
  {
   "cell_type": "code",
   "execution_count": 10,
   "metadata": {},
   "outputs": [
    {
     "name": "stdout",
     "output_type": "stream",
     "text": [
      "Raportti sisältää tietoja sairausvakuutuksesta lääkärinpalkkioina, hammaslääkärinpalkkioina tai tutkimuksena ja hoitona korvatuista yksityisistä sairaanhoitopalveluista perittyjen maksujen keskiarvoista toimenpiteittäin. - Tiedot on raportoitu kunnittain ja useiden laajempien aluejaottelujen mukaan vuositasolla. - Kunta on palvelusta tilastovuonna korvauksen saaneen henkilön asuinkunta vuoden lopussa. - Toimenpide on tilastoitu sille vuodelle, jona siitä on maksettu korvaus. - Kustannukset on jaoteltu seuraaviin ryhmiin: erikoislääkäri- (yleisimmät erikoisalat), yleislääkäri-, hammaslääkärikäynnit, tutkimus ja hoito sekä yleisimmät laboratorio- ja röntgentutkimukset. - Tarkastelussa ei ole mukana seuraavia alaryhmiä: lääketieteen opiskelijat, ulkomaalaiset lääkärit, normaalin vastaanottoajan ulkopuolella tehdyt käynnit, kotikäynnit sekä jos yksittäisten käyntien/hoitojen lukumäärä on kunnassa vähemmän kuin neljä. - Aineistosta on poistettu virheelliset tiedot ennen keskiarvojen laskemista.\n"
     ]
    }
   ],
   "source": [
    "print(meta['description'])"
   ]
  },
  {
   "cell_type": "markdown",
   "metadata": {},
   "source": [
    "**Datan muuttujatieto**"
   ]
  },
  {
   "cell_type": "code",
   "execution_count": 11,
   "metadata": {},
   "outputs": [
    {
     "data": {
      "text/html": [
       "<div>\n",
       "<style scoped>\n",
       "    .dataframe tbody tr th:only-of-type {\n",
       "        vertical-align: middle;\n",
       "    }\n",
       "\n",
       "    .dataframe tbody tr th {\n",
       "        vertical-align: top;\n",
       "    }\n",
       "\n",
       "    .dataframe thead th {\n",
       "        text-align: right;\n",
       "    }\n",
       "</style>\n",
       "<table border=\"1\" class=\"dataframe\">\n",
       "  <thead>\n",
       "    <tr style=\"text-align: right;\">\n",
       "      <th></th>\n",
       "      <th>format</th>\n",
       "      <th>name</th>\n",
       "      <th>type</th>\n",
       "    </tr>\n",
       "  </thead>\n",
       "  <tbody>\n",
       "    <tr>\n",
       "      <th>0</th>\n",
       "      <td>default</td>\n",
       "      <td>kuntanumero</td>\n",
       "      <td>integer</td>\n",
       "    </tr>\n",
       "    <tr>\n",
       "      <th>1</th>\n",
       "      <td>default</td>\n",
       "      <td>kunta</td>\n",
       "      <td>string</td>\n",
       "    </tr>\n",
       "    <tr>\n",
       "      <th>2</th>\n",
       "      <td>default</td>\n",
       "      <td>aikajakso</td>\n",
       "      <td>string</td>\n",
       "    </tr>\n",
       "    <tr>\n",
       "      <th>3</th>\n",
       "      <td>default</td>\n",
       "      <td>aika</td>\n",
       "      <td>integer</td>\n",
       "    </tr>\n",
       "    <tr>\n",
       "      <th>4</th>\n",
       "      <td>default</td>\n",
       "      <td>toimenpide</td>\n",
       "      <td>string</td>\n",
       "    </tr>\n",
       "    <tr>\n",
       "      <th>5</th>\n",
       "      <td>default</td>\n",
       "      <td>hinta_euroa</td>\n",
       "      <td>integer</td>\n",
       "    </tr>\n",
       "  </tbody>\n",
       "</table>\n",
       "</div>"
      ],
      "text/plain": [
       "    format         name     type\n",
       "0  default  kuntanumero  integer\n",
       "1  default        kunta   string\n",
       "2  default    aikajakso   string\n",
       "3  default         aika  integer\n",
       "4  default   toimenpide   string\n",
       "5  default  hinta_euroa  integer"
      ]
     },
     "execution_count": 11,
     "metadata": {},
     "output_type": "execute_result"
    }
   ],
   "source": [
    "json_normalize(meta['resources'][0]['schema']['fields'])"
   ]
  },
  {
   "cell_type": "markdown",
   "metadata": {},
   "source": [
    "**Datan ensimmäiset rivit**"
   ]
  },
  {
   "cell_type": "code",
   "execution_count": 12,
   "metadata": {},
   "outputs": [
    {
     "name": "stdout",
     "output_type": "stream",
     "text": [
      "   kuntanumero      kunta aikajakso  aika  \\\n",
      "0            5   Alajärvi     vuosi  2010   \n",
      "1            9  Alavieska     vuosi  2010   \n",
      "2           10     Alavus     vuosi  2010   \n",
      "3           16   Asikkala     vuosi  2010   \n",
      "4           18     Askola     vuosi  2010   \n",
      "\n",
      "                                          toimenpide  hinta_euroa  \n",
      "0  Yleislääkärit, vastaanottokäynti enintään 20 min.         42.0  \n",
      "1  Yleislääkärit, vastaanottokäynti enintään 20 min.         50.0  \n",
      "2  Yleislääkärit, vastaanottokäynti enintään 20 min.         46.0  \n",
      "3  Yleislääkärit, vastaanottokäynti enintään 20 min.         49.0  \n",
      "4  Yleislääkärit, vastaanottokäynti enintään 20 min.         43.0  \n"
     ]
    }
   ],
   "source": [
    "print(dat.head())"
   ]
  },
  {
   "cell_type": "code",
   "execution_count": 14,
   "metadata": {},
   "outputs": [],
   "source": [
    "plotdat = (dat\n",
    "           .query('aikajakso == \"vuosi\"')\n",
    "           .query('toimenpide == \"SAA02 Hammaslääkärit, perustutkimus\"')\n",
    " .query('aika == \"2018\"')\n",
    " .sort_values(by='hinta_euroa', ascending=False)\n",
    " .head(20))\n",
    "\n",
    "#plt.bar(plotdat, height = )"
   ]
  },
  {
   "cell_type": "markdown",
   "metadata": {},
   "source": [
    "## Kuvio"
   ]
  },
  {
   "cell_type": "code",
   "execution_count": 16,
   "metadata": {},
   "outputs": [
    {
     "data": {
      "text/plain": [
       "<BarContainer object of 20 artists>"
      ]
     },
     "execution_count": 16,
     "metadata": {},
     "output_type": "execute_result"
    },
    {
     "data": {
      "image/png": "[encoded data removed]",
      "text/plain": [
       "<Figure size 432x288 with 1 Axes>"
      ]
     },
     "metadata": {
      "needs_background": "light"
     },
     "output_type": "display_data"
    }
   ],
   "source": [
    "plt.bar(plotdat['kunta'], plotdat['hinta_euroa'])"
   ]
  },
  {
   "cell_type": "markdown",
   "metadata": {},
   "source": [
    "## Datastore-api\n",
    "\n",
    "Jos et tarvitse koko aineistoa, voit suodattaa siitä osio SQL:llä käyttäen CKAN:n DataStore-rajapintaa.\n",
    "\n",
    "Alla olevassa esimerkissä tehdään rajaus `kunta`-muuttujasta ja siis etsitään vaan kuntaa *Veteli* koskevat tiedot."
   ]
  },
  {
   "cell_type": "code",
   "execution_count": 17,
   "metadata": {},
   "outputs": [
    {
     "name": "stdout",
     "output_type": "stream",
     "text": [
      "                                          _full_text  _id  aika aikajakso  \\\n",
      "0  '20':8 '2010':4 '42':10 '5':1 'alajärvi':2 'en...    1  2010     vuosi   \n",
      "1  '20':8 '2010':4 '50':10 '9':1 'alavieska':2 'e...    2  2010     vuosi   \n",
      "2  '10':1 '20':8 '2010':4 '46':10 'alavus':2 'eni...    3  2010     vuosi   \n",
      "3  '16':1 '20':8 '2010':4 '49':10 'asikkala':2 'e...    4  2010     vuosi   \n",
      "4  '18':1 '20':8 '2010':4 '43':10 'askola':2 'eni...    5  2010     vuosi   \n",
      "\n",
      "  hinta_euroa      kunta kuntanumero  \\\n",
      "0          42   Alajärvi           5   \n",
      "1          50  Alavieska           9   \n",
      "2          46     Alavus          10   \n",
      "3          49   Asikkala          16   \n",
      "4          43     Askola          18   \n",
      "\n",
      "                                          toimenpide  \n",
      "0  Yleislääkärit, vastaanottokäynti enintään 20 min.  \n",
      "1  Yleislääkärit, vastaanottokäynti enintään 20 min.  \n",
      "2  Yleislääkärit, vastaanottokäynti enintään 20 min.  \n",
      "3  Yleislääkärit, vastaanottokäynti enintään 20 min.  \n",
      "4  Yleislääkärit, vastaanottokäynti enintään 20 min.  \n"
     ]
    }
   ],
   "source": [
    "kunta = \"Veteli\"\n",
    "taulu = resources[0]['id']\n",
    "muuttuja = 'kunta'\n",
    "urli = f'https://beta.avoindata.fi/data/fi/data/api/3/action/datastore_search_sql?sql=SELECT * from \"{taulu}\" WHERE {muuttuja} LIKE \\'{kunta}\\''\n",
    "urli_plain = f'https://beta.avoindata.fi/data/fi/data/api/3/action/datastore_search_sql?sql=SELECT * from \"{taulu}\"'\n",
    "#urli = \"https://beta.avoindata.fi/data/fi/data/api/3/action/datastore_search_sql?sql=SELECT * from \\\"%s\\\" WHERE %s LIKE '%s'\" % (taulu, muuttuja, kunta)\n",
    "#urli_plain = \"https://beta.avoindata.fi/data/fi/data/api/3/action/datastore_search_sql?sql=SELECT * from \\\"%s\\\"\" % (taulu)\n",
    "response = urlopen(urli_plain)\n",
    "da = json.loads(response.read())\n",
    "dataa = json_normalize(da['result']['records'])\n",
    "#dataa\n",
    "print(dataa.head())"
   ]
  },
  {
   "cell_type": "code",
   "execution_count": null,
   "metadata": {},
   "outputs": [],
   "source": []
  }
 ],
 "metadata": {
  "kernelspec": {
   "display_name": "Python 3",
   "language": "python",
   "name": "python3"
  },
  "language_info": {
   "codemirror_mode": {
    "name": "ipython",
    "version": 3
   },
   "file_extension": ".py",
   "mimetype": "text/x-python",
   "name": "python",
   "nbconvert_exporter": "python",
   "pygments_lexer": "ipython3",
   "version": "3.6.8"
  }
 },
 "nbformat": 4,
 "nbformat_minor": 2
}
