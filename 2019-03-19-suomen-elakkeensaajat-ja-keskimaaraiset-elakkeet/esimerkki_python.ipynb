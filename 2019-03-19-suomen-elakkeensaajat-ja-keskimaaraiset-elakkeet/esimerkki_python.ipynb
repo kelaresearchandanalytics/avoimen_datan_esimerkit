{
 "cells": [
  {
   "cell_type": "code",
   "execution_count": 1,
   "metadata": {},
   "outputs": [],
   "source": [
    "from ckanapi import RemoteCKAN\n",
    "import json\n",
    "import pandas as pd\n",
    "import numpy as np\n",
    "import matplotlib.pyplot as plt\n",
    "from urllib.request import urlopen\n",
    "from pandas.io.json import json_normalize\n",
    "\n",
    "ua = 'avoindata_ckanapi_example/1.0 ({0})'\n",
    "ckan = RemoteCKAN('https://beta.avoindata.fi/data/fi/', user_agent=ua)\n",
    "packages = ckan.action.package_search(q='Kansaneläkelaitos', fq = 'title:eläkkeensaajat')\n",
    "resources = packages['results'][0]['resources'] \n",
    "url_csv = resources[0]['url']\n",
    "url_json = resources[1]['url']\n",
    "dat = pd.read_csv(url_csv, sep = ';', decimal = ',')"
   ]
  },
  {
   "cell_type": "code",
   "execution_count": 3,
   "metadata": {},
   "outputs": [],
   "source": [
    "response = urlopen(url_json)\n",
    "meta = json.loads(response.read())"
   ]
  },
  {
   "cell_type": "markdown",
   "metadata": {},
   "source": [
    "## Datan ja metadatan kuvailu\n",
    "\n",
    "**Datan kuvaustieto**"
   ]
  },
  {
   "cell_type": "code",
   "execution_count": 4,
   "metadata": {},
   "outputs": [
    {
     "name": "stdout",
     "output_type": "stream",
     "text": [
      "Suomen eläketurva koostuu pääpiirteissään kahdesta lakisääteisestä eläkejärjestelmästä, kansaneläkejärjestelmästä ja työeläkejärjestelmästä. Lakisääteistä eläketurvaa ovat myös liikenne- ja tapaturmavakuutuslakien sekä sotilasvamma- ja sotilastapaturmalakien mukaiset eläkkeet, ns. SOLITA-eläkkeet. Tämä raportti sisältää tietoja kansan- ja/tai työeläkejärjestelmän eläkkeensaajien lukumäärästä ja keskimääräisistä kokonaiseläkkeistä. Mukana ovat myös ulkomaille maksetut eläkkeet. Lakisääteisen eläketurvan osalta raportti on lähes tyhjentävä, vain pelkkää SOLITA-eläkettä saavat henkilöt ja heidän eläkkeensä eivät ole mukana. Vapaaehtoisesta eläketurvasta on mukana vain työnantajan kustantama rekisteröity lisäeläketurva. Eri eläkelajeja ei voi summata yhteen, sillä henkilö voi saada samanaikaisesti eläkettä sekä kansan- että työeläkejärjestelmästä. Kelasta hänellä ei voi olla yhtä aikaa eri eläkelajien mukaista eläkettä, mutta työeläkkeenä hän voi saada samanaikaisesti sekä usean eläkelain että usean eläkelajin mukaista eläkettä. Kokonaiseläke voi koostua Kelan eläkkeestä ja työeläkkeestä sekä niihin liittyvistä SOLITA-eläkkeistä, lapsikorotuksista, rintamalisästä ja ylimääräisestä rintamalisästä sekä vuoteen 2007 saakka eläkkeensaajien asumistuesta ja hoitotuesta.\n"
     ]
    }
   ],
   "source": [
    "print(meta['description'])"
   ]
  },
  {
   "cell_type": "markdown",
   "metadata": {},
   "source": [
    "**Datan muuttujatieto**"
   ]
  },
  {
   "cell_type": "code",
   "execution_count": 5,
   "metadata": {},
   "outputs": [
    {
     "data": {
      "text/html": [
       "<div>\n",
       "<style scoped>\n",
       "    .dataframe tbody tr th:only-of-type {\n",
       "        vertical-align: middle;\n",
       "    }\n",
       "\n",
       "    .dataframe tbody tr th {\n",
       "        vertical-align: top;\n",
       "    }\n",
       "\n",
       "    .dataframe thead th {\n",
       "        text-align: right;\n",
       "    }\n",
       "</style>\n",
       "<table border=\"1\" class=\"dataframe\">\n",
       "  <thead>\n",
       "    <tr style=\"text-align: right;\">\n",
       "      <th></th>\n",
       "      <th>format</th>\n",
       "      <th>name</th>\n",
       "      <th>type</th>\n",
       "    </tr>\n",
       "  </thead>\n",
       "  <tbody>\n",
       "    <tr>\n",
       "      <th>0</th>\n",
       "      <td>default</td>\n",
       "      <td>kuntanumero</td>\n",
       "      <td>integer</td>\n",
       "    </tr>\n",
       "    <tr>\n",
       "      <th>1</th>\n",
       "      <td>default</td>\n",
       "      <td>kunta</td>\n",
       "      <td>string</td>\n",
       "    </tr>\n",
       "    <tr>\n",
       "      <th>2</th>\n",
       "      <td>default</td>\n",
       "      <td>aikajakso</td>\n",
       "      <td>string</td>\n",
       "    </tr>\n",
       "    <tr>\n",
       "      <th>3</th>\n",
       "      <td>default</td>\n",
       "      <td>aika</td>\n",
       "      <td>string</td>\n",
       "    </tr>\n",
       "    <tr>\n",
       "      <th>4</th>\n",
       "      <td>default</td>\n",
       "      <td>elakelaji</td>\n",
       "      <td>string</td>\n",
       "    </tr>\n",
       "    <tr>\n",
       "      <th>5</th>\n",
       "      <td>default</td>\n",
       "      <td>sukupuoli</td>\n",
       "      <td>string</td>\n",
       "    </tr>\n",
       "    <tr>\n",
       "      <th>6</th>\n",
       "      <td>default</td>\n",
       "      <td>ikaryhma</td>\n",
       "      <td>string</td>\n",
       "    </tr>\n",
       "    <tr>\n",
       "      <th>7</th>\n",
       "      <td>default</td>\n",
       "      <td>elakejarjestelma</td>\n",
       "      <td>string</td>\n",
       "    </tr>\n",
       "    <tr>\n",
       "      <th>8</th>\n",
       "      <td>default</td>\n",
       "      <td>asuinmaa</td>\n",
       "      <td>string</td>\n",
       "    </tr>\n",
       "    <tr>\n",
       "      <th>9</th>\n",
       "      <td>default</td>\n",
       "      <td>saajat</td>\n",
       "      <td>integer</td>\n",
       "    </tr>\n",
       "    <tr>\n",
       "      <th>10</th>\n",
       "      <td>default</td>\n",
       "      <td>keskimaarainen_kokonaiselake_e_kk</td>\n",
       "      <td>number</td>\n",
       "    </tr>\n",
       "  </tbody>\n",
       "</table>\n",
       "</div>"
      ],
      "text/plain": [
       "     format                               name     type\n",
       "0   default                        kuntanumero  integer\n",
       "1   default                              kunta   string\n",
       "2   default                          aikajakso   string\n",
       "3   default                               aika   string\n",
       "4   default                          elakelaji   string\n",
       "5   default                          sukupuoli   string\n",
       "6   default                           ikaryhma   string\n",
       "7   default                   elakejarjestelma   string\n",
       "8   default                           asuinmaa   string\n",
       "9   default                             saajat  integer\n",
       "10  default  keskimaarainen_kokonaiselake_e_kk   number"
      ]
     },
     "execution_count": 5,
     "metadata": {},
     "output_type": "execute_result"
    }
   ],
   "source": [
    "json_normalize(meta['resources'][0]['schema']['fields'])"
   ]
  },
  {
   "cell_type": "markdown",
   "metadata": {},
   "source": [
    "**Datan ensimmäiset rivit**"
   ]
  },
  {
   "cell_type": "code",
   "execution_count": 6,
   "metadata": {},
   "outputs": [
    {
     "name": "stdout",
     "output_type": "stream",
     "text": [
      "   kuntanumero      kunta aikajakso     aika elakelaji sukupuoli  ikaryhma  \\\n",
      "0            5   Alajärvi     vuosi  2003-12  Yhteensä  Yhteensä  Yhteensä   \n",
      "1            9  Alavieska     vuosi  2003-12  Yhteensä  Yhteensä  Yhteensä   \n",
      "2           10     Alavus     vuosi  2003-12  Yhteensä  Yhteensä  Yhteensä   \n",
      "3           16   Asikkala     vuosi  2003-12  Yhteensä  Yhteensä  Yhteensä   \n",
      "4           18     Askola     vuosi  2003-12  Yhteensä  Yhteensä  Yhteensä   \n",
      "\n",
      "         elakejarjestelma asuinmaa  saajat  keskimaarainen_kokonaiselake_e_kk  \n",
      "0  Kaikki eläkkeen saajat    Suomi  3177.0                             821.59  \n",
      "1  Kaikki eläkkeen saajat    Suomi   781.0                             816.81  \n",
      "2  Kaikki eläkkeen saajat    Suomi  3823.0                             865.13  \n",
      "3  Kaikki eläkkeen saajat    Suomi  2580.0                             975.58  \n",
      "4  Kaikki eläkkeen saajat    Suomi   964.0                             908.87  \n"
     ]
    }
   ],
   "source": [
    "print(dat.head())"
   ]
  },
  {
   "cell_type": "code",
   "execution_count": 7,
   "metadata": {},
   "outputs": [],
   "source": [
    "plotdat = (dat\n",
    " .query('aikajakso == \"vuosi\"')\n",
    "           .query('aika == \"2017-12\"')\n",
    " .query('elakelaji == \"Yhteensä\"')\n",
    " .query('sukupuoli == \"Yhteensä\"')\n",
    " .query('ikaryhma == \"Yhteensä\"')\n",
    " .query('elakejarjestelma == \"Kaikki eläkkeen saajat\"')\n",
    " .query('asuinmaa == \"Suomi\"')\n",
    " .sort_values(by='keskimaarainen_kokonaiselake_e_kk', ascending=False)\n",
    " .head(20))\n",
    "\n",
    "#plt.bar(plotdat, height = )"
   ]
  },
  {
   "cell_type": "markdown",
   "metadata": {},
   "source": [
    "## Kuvio"
   ]
  },
  {
   "cell_type": "code",
   "execution_count": 8,
   "metadata": {},
   "outputs": [
    {
     "data": {
      "text/plain": [
       "<BarContainer object of 20 artists>"
      ]
     },
     "execution_count": 8,
     "metadata": {},
     "output_type": "execute_result"
    },
    {
     "data": {
      "image/png": "[encoded data removed]",
      "text/plain": [
       "<Figure size 432x288 with 1 Axes>"
      ]
     },
     "metadata": {
      "needs_background": "light"
     },
     "output_type": "display_data"
    }
   ],
   "source": [
    "plt.bar(plotdat['kunta'], plotdat['keskimaarainen_kokonaiselake_e_kk'])"
   ]
  },
  {
   "cell_type": "markdown",
   "metadata": {},
   "source": [
    "## Datastore-api\n",
    "\n",
    "Jos et tarvitse koko aineistoa, voit suodattaa siitä osio SQL:llä käyttäen CKAN:n DataStore-rajapintaa.\n",
    "\n",
    "Alla olevassa esimerkissä tehdään rajaus `kunta`-muuttujasta ja siis etsitään vaan kuntaa *Veteli* koskevat tiedot."
   ]
  },
  {
   "cell_type": "code",
   "execution_count": 9,
   "metadata": {},
   "outputs": [
    {
     "name": "stdout",
     "output_type": "stream",
     "text": [
      "                                          _full_text  _id     aika aikajakso  \\\n",
      "0  '-12':5 '2003':4 '3177':13 '5':1 '59':15 '821'...    1  2003-12     vuosi   \n",
      "1  '-12':5 '2003':4 '781':13 '81':15 '816':14 '9'...    2  2003-12     vuosi   \n",
      "2  '-12':5 '10':1 '13':15 '2003':4 '3823':13 '865...    3  2003-12     vuosi   \n",
      "3  '-12':5 '16':1 '2003':4 '2580':13 '58':15 '975...    4  2003-12     vuosi   \n",
      "4  '-12':5 '18':1 '2003':4 '87':15 '908':14 '964'...    5  2003-12     vuosi   \n",
      "\n",
      "  asuinmaa        elakejarjestelma elakelaji  ikaryhma  \\\n",
      "0    Suomi  Kaikki eläkkeen saajat  Yhteensä  Yhteensä   \n",
      "1    Suomi  Kaikki eläkkeen saajat  Yhteensä  Yhteensä   \n",
      "2    Suomi  Kaikki eläkkeen saajat  Yhteensä  Yhteensä   \n",
      "3    Suomi  Kaikki eläkkeen saajat  Yhteensä  Yhteensä   \n",
      "4    Suomi  Kaikki eläkkeen saajat  Yhteensä  Yhteensä   \n",
      "\n",
      "  keskimaarainen_kokonaiselake_e_kk      kunta kuntanumero saajat sukupuoli  \n",
      "0                            821,59   Alajärvi           5   3177  Yhteensä  \n",
      "1                            816,81  Alavieska           9    781  Yhteensä  \n",
      "2                            865,13     Alavus          10   3823  Yhteensä  \n",
      "3                            975,58   Asikkala          16   2580  Yhteensä  \n",
      "4                            908,87     Askola          18    964  Yhteensä  \n"
     ]
    }
   ],
   "source": [
    "kunta = \"Veteli\"\n",
    "taulu = resources[0]['id']\n",
    "muuttuja = 'kunta'\n",
    "urli = f'https://beta.avoindata.fi/data/fi/data/api/3/action/datastore_search_sql?sql=SELECT * from \"{taulu}\" WHERE {muuttuja} LIKE \\'{kunta}\\''\n",
    "urli_plain = f'https://beta.avoindata.fi/data/fi/data/api/3/action/datastore_search_sql?sql=SELECT * from \"{taulu}\"'\n",
    "#urli = \"https://beta.avoindata.fi/data/fi/data/api/3/action/datastore_search_sql?sql=SELECT * from \\\"%s\\\" WHERE %s LIKE '%s'\" % (taulu, muuttuja, kunta)\n",
    "#urli_plain = \"https://beta.avoindata.fi/data/fi/data/api/3/action/datastore_search_sql?sql=SELECT * from \\\"%s\\\"\" % (taulu)\n",
    "response = urlopen(urli_plain)\n",
    "da = json.loads(response.read())\n",
    "dataa = json_normalize(da['result']['records'])\n",
    "#dataa\n",
    "print(dataa.head())"
   ]
  },
  {
   "cell_type": "code",
   "execution_count": null,
   "metadata": {},
   "outputs": [],
   "source": []
  }
 ],
 "metadata": {
  "kernelspec": {
   "display_name": "Python 3",
   "language": "python",
   "name": "python3"
  },
  "language_info": {
   "codemirror_mode": {
    "name": "ipython",
    "version": 3
   },
   "file_extension": ".py",
   "mimetype": "text/x-python",
   "name": "python",
   "nbconvert_exporter": "python",
   "pygments_lexer": "ipython3",
   "version": "3.6.8"
  }
 },
 "nbformat": 4,
 "nbformat_minor": 2
}
