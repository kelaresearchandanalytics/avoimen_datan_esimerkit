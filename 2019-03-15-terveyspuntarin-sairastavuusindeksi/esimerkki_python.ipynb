{
 "cells": [
  {
   "cell_type": "code",
   "execution_count": 2,
   "metadata": {},
   "outputs": [],
   "source": [
    "from ckanapi import RemoteCKAN\n",
    "import json\n",
    "import pandas as pd\n",
    "import numpy as np\n",
    "import matplotlib.pyplot as plt\n",
    "from urllib.request import urlopen\n",
    "from pandas.io.json import json_normalize\n",
    "\n",
    "ua = 'avoindata_ckanapi_example/1.0 ({0})'\n",
    "ckan = RemoteCKAN('https://beta.avoindata.fi/data/fi/', user_agent=ua)\n",
    "packages = ckan.action.package_search(q='Kansaneläkelaitos', fq = 'title:terveyspuntari')\n",
    "resources = packages['results'][0]['resources'] \n",
    "url_csv = resources[0]['url']\n",
    "url_json = resources[1]['url']\n",
    "dat = pd.read_csv(url_csv, sep = ';', decimal = ',')"
   ]
  },
  {
   "cell_type": "code",
   "execution_count": 3,
   "metadata": {},
   "outputs": [],
   "source": [
    "response = urlopen(url_json)\n",
    "meta = json.loads(response.read())"
   ]
  },
  {
   "cell_type": "markdown",
   "metadata": {},
   "source": [
    "## Datan ja metadatan kuvailu\n",
    "\n",
    "**Datan kuvaustieto**"
   ]
  },
  {
   "cell_type": "code",
   "execution_count": 4,
   "metadata": {},
   "outputs": [
    {
     "name": "stdout",
     "output_type": "stream",
     "text": [
      "Jokaiselle Suomen kunnalle lasketun indeksin avulla pyritään havainnollistamaan sitä, miten tervettä tai sairasta alueen väestö on suhteessa koko maan väestön keskiarvoon (= 100). Indeksi ilmoitetaan sekä sellaisenaan että ikä- ja sukupuolivakioituna. Vakioinnilla ikä- ja sukupuolirakenteen vaikutus indeksilukuun voidaan poistaa, mikä mahdollista alueittaisen vertailun alueiden välisistä ikä- ja sukupuolirakenteen eroista huolimatta. Sairastavuusindeksi perustuu kolmeen tilastomuuttujaan: kuolleisuuteen, työkyvyttömyyseläkkeellä olevien osuuteen työikäisistä (16–64-vuotiaat) sekä lääkkeiden ja ravintovalmisteiden korvausoikeuksien haltijoiden osuuteen väestöstä. Niistä kukin on suhteutettu maan väestön keskiarvoon. Sairastavuusindeksi on näiden kolmen osaindeksin keskiarvo. Yhden osaindeksin laskentatapaa muutettiin vuonna 2012: erityiskorvausoikeusindeksi laajennettiin kattamaan myös rajoitetusti peruskorvattavien lääkkeiden korvausoikeudet sekä kliinisten ravintovalmisteiden korvausoikeudet. Muutoksen yhteydessä osaindeksin nimi muutettiin lääkekorvausoikeusindeksiksi. Vuonna 2013 ikä- ja sukupuoliryhmittäistä laskentaa tarkennettiin. Kaikki Terveyspuntarin sarastavuusindeksit on päivitetty takautuvasti nykyisen laskentatavan mukaisiksi. Vuonna 2013 ikä- ja sukupuoliryhmittäistä laskentaa tarkennettiin ja kaikki Terveyspuntarin sairastavuusindeksit päivitettiin takautuvasti nykyisen laskentatavan mukaisiksi.\n"
     ]
    }
   ],
   "source": [
    "print(meta['description'])"
   ]
  },
  {
   "cell_type": "markdown",
   "metadata": {},
   "source": [
    "**Datan muuttujatieto**"
   ]
  },
  {
   "cell_type": "code",
   "execution_count": 5,
   "metadata": {},
   "outputs": [
    {
     "data": {
      "text/html": [
       "<div>\n",
       "<style scoped>\n",
       "    .dataframe tbody tr th:only-of-type {\n",
       "        vertical-align: middle;\n",
       "    }\n",
       "\n",
       "    .dataframe tbody tr th {\n",
       "        vertical-align: top;\n",
       "    }\n",
       "\n",
       "    .dataframe thead th {\n",
       "        text-align: right;\n",
       "    }\n",
       "</style>\n",
       "<table border=\"1\" class=\"dataframe\">\n",
       "  <thead>\n",
       "    <tr style=\"text-align: right;\">\n",
       "      <th></th>\n",
       "      <th>format</th>\n",
       "      <th>name</th>\n",
       "      <th>type</th>\n",
       "    </tr>\n",
       "  </thead>\n",
       "  <tbody>\n",
       "    <tr>\n",
       "      <th>0</th>\n",
       "      <td>default</td>\n",
       "      <td>kuntanumero</td>\n",
       "      <td>integer</td>\n",
       "    </tr>\n",
       "    <tr>\n",
       "      <th>1</th>\n",
       "      <td>default</td>\n",
       "      <td>kunta</td>\n",
       "      <td>string</td>\n",
       "    </tr>\n",
       "    <tr>\n",
       "      <th>2</th>\n",
       "      <td>default</td>\n",
       "      <td>indeksi</td>\n",
       "      <td>string</td>\n",
       "    </tr>\n",
       "    <tr>\n",
       "      <th>3</th>\n",
       "      <td>default</td>\n",
       "      <td>vuosi</td>\n",
       "      <td>integer</td>\n",
       "    </tr>\n",
       "    <tr>\n",
       "      <th>4</th>\n",
       "      <td>default</td>\n",
       "      <td>vakioitu</td>\n",
       "      <td>string</td>\n",
       "    </tr>\n",
       "    <tr>\n",
       "      <th>5</th>\n",
       "      <td>default</td>\n",
       "      <td>indeksin_arvo</td>\n",
       "      <td>number</td>\n",
       "    </tr>\n",
       "  </tbody>\n",
       "</table>\n",
       "</div>"
      ],
      "text/plain": [
       "    format           name     type\n",
       "0  default    kuntanumero  integer\n",
       "1  default          kunta   string\n",
       "2  default        indeksi   string\n",
       "3  default          vuosi  integer\n",
       "4  default       vakioitu   string\n",
       "5  default  indeksin_arvo   number"
      ]
     },
     "execution_count": 5,
     "metadata": {},
     "output_type": "execute_result"
    }
   ],
   "source": [
    "json_normalize(meta['resources'][0]['schema']['fields'])"
   ]
  },
  {
   "cell_type": "markdown",
   "metadata": {},
   "source": [
    "**Datan ensimmäiset rivit**"
   ]
  },
  {
   "cell_type": "code",
   "execution_count": 6,
   "metadata": {},
   "outputs": [
    {
     "name": "stdout",
     "output_type": "stream",
     "text": [
      "   kuntanumero     kunta              indeksi   vuosi  vakioitu  indeksin_arvo\n",
      "0          5.0  Alajärvi  -kuolleisuusindeksi  2017.0  Vakioitu           93.8\n",
      "1          5.0  Alajärvi  -kuolleisuusindeksi  2016.0  Vakioitu           91.9\n",
      "2          5.0  Alajärvi  -kuolleisuusindeksi  2015.0  Vakioitu           92.9\n",
      "3          5.0  Alajärvi  -kuolleisuusindeksi  2014.0  Vakioitu           89.5\n",
      "4          5.0  Alajärvi  -kuolleisuusindeksi  2013.0  Vakioitu          102.7\n"
     ]
    }
   ],
   "source": [
    "print(dat.head())"
   ]
  },
  {
   "cell_type": "code",
   "execution_count": 7,
   "metadata": {},
   "outputs": [],
   "source": [
    "plotdat = (dat\n",
    " .query('vuosi == 2017')\n",
    " .query('indeksi == \"-kuolleisuusindeksi\"')\n",
    " .sort_values(by='indeksin_arvo', ascending=False)\n",
    " .head(20))\n",
    "\n",
    "#plt.bar(plotdat, height = )"
   ]
  },
  {
   "cell_type": "markdown",
   "metadata": {},
   "source": [
    "## Kuvio"
   ]
  },
  {
   "cell_type": "code",
   "execution_count": 8,
   "metadata": {},
   "outputs": [
    {
     "data": {
      "text/plain": [
       "<BarContainer object of 20 artists>"
      ]
     },
     "execution_count": 8,
     "metadata": {},
     "output_type": "execute_result"
    },
    {
     "data": {
      "image/png": "[encoded data removed]",
      "text/plain": [
       "<Figure size 432x288 with 1 Axes>"
      ]
     },
     "metadata": {
      "needs_background": "light"
     },
     "output_type": "display_data"
    }
   ],
   "source": [
    "plt.bar(plotdat['kunta'], plotdat['indeksin_arvo'])"
   ]
  },
  {
   "cell_type": "markdown",
   "metadata": {},
   "source": [
    "## Datastore-api\n",
    "\n",
    "Jos et tarvitse koko aineistoa, voit suodattaa siitä osio SQL:llä käyttäen CKAN:n DataStore-rajapintaa.\n",
    "\n",
    "Alla olevassa esimerkissä tehdään rajaus `kunta`-muuttujasta ja siis etsitään vaan kuntaa *Veteli* koskevat tiedot."
   ]
  },
  {
   "cell_type": "code",
   "execution_count": 7,
   "metadata": {},
   "outputs": [
    {
     "name": "stdout",
     "output_type": "stream",
     "text": [
      "                                          _full_text  _id     etuus  \\\n",
      "0  '2018':1 '3674':7 '414':4 '432023':5 '4617':8 ...    1  Yhteensä   \n",
      "1  '1617':8 '2018':1 '3024':7 '305':4 '327333':5 ...    2  Yhteensä   \n",
      "2  '118497':5 '2018':1 '3919':7 '4614':8 '81':6 '...    3  Yhteensä   \n",
      "3  '2018':1 '3532':7 '446':4 '50':6 '525543':5 '7...    4  Yhteensä   \n",
      "4  '2018':1 '246':4 '254566':5 '3318':7 '8347':8 ...    5  Yhteensä   \n",
      "\n",
      "  euroa_per_saaja      kunta maksetut_etuudet_euroa saajat vuosi  \n",
      "0       3674,4617       Akaa              432023,71    414  2018  \n",
      "1       3024,1617   Alajärvi              327333,55    305  2018  \n",
      "2       3919,4614  Alavieska              118497,81     87  2018  \n",
      "3       3532,7264     Alavus              525543,50    446  2018  \n",
      "4       3318,8347   Asikkala              254566,97    246  2018  \n"
     ]
    }
   ],
   "source": [
    "kunta = \"Veteli\"\n",
    "taulu = resources[0]['id']\n",
    "muuttuja = 'kunta'\n",
    "urli = f'https://beta.avoindata.fi/data/fi/data/api/3/action/datastore_search_sql?sql=SELECT * from \"{taulu}\" WHERE {muuttuja} LIKE \\'{kunta}\\''\n",
    "urli_plain = f'https://beta.avoindata.fi/data/fi/data/api/3/action/datastore_search_sql?sql=SELECT * from \"{taulu}\"'\n",
    "#urli = \"https://beta.avoindata.fi/data/fi/data/api/3/action/datastore_search_sql?sql=SELECT * from \\\"%s\\\" WHERE %s LIKE '%s'\" % (taulu, muuttuja, kunta)\n",
    "#urli_plain = \"https://beta.avoindata.fi/data/fi/data/api/3/action/datastore_search_sql?sql=SELECT * from \\\"%s\\\"\" % (taulu)\n",
    "response = urlopen(urli_plain)\n",
    "da = json.loads(response.read())\n",
    "dataa = json_normalize(da['result']['records'])\n",
    "#dataa\n",
    "print(dataa.head())"
   ]
  },
  {
   "cell_type": "code",
   "execution_count": null,
   "metadata": {},
   "outputs": [],
   "source": []
  }
 ],
 "metadata": {
  "kernelspec": {
   "display_name": "Python 3",
   "language": "python",
   "name": "python3"
  },
  "language_info": {
   "codemirror_mode": {
    "name": "ipython",
    "version": 3
   },
   "file_extension": ".py",
   "mimetype": "text/x-python",
   "name": "python",
   "nbconvert_exporter": "python",
   "pygments_lexer": "ipython3",
   "version": "3.6.8"
  }
 },
 "nbformat": 4,
 "nbformat_minor": 2
}
