{
 "cells": [
  {
   "cell_type": "markdown",
   "metadata": {},
   "source": [
    "| pvm         | data        | tekijä   |\n",
    "| ---------   | -------     | -------- |\n",
    "| 2019-02-19  | [Kelan etuuksien saajat ja etuusmäärät](https://beta.avoindata.fi/data/fi/dataset/kelan-etuudet-ja-saajat) | Markus Kainu |\n",
    " \n",
    "# Käyttöesimerkkejä: Kelan etuuksien saajat ja etuusmäärät\n",
    "\n",
    "## Resurssien lataaminen"
   ]
  },
  {
   "cell_type": "code",
   "execution_count": 7,
   "metadata": {},
   "outputs": [],
   "source": [
    "from ckanapi import RemoteCKAN\n",
    "import json\n",
    "import pandas as pd\n",
    "import numpy as np\n",
    "import matplotlib.pyplot as plt\n",
    "from urllib.request import urlopen\n",
    "from pandas.io.json import json_normalize\n",
    "\n",
    "ua = 'avoindata_ckanapi_example/1.0 ({0})'\n",
    "ckan = RemoteCKAN('https://beta.avoindata.fi/data/fi/', user_agent=ua)\n",
    "packages = ckan.action.package_search(q='Kansaneläkelaitos', fq = 'title:etuuksien')\n",
    "resources = packages['results'][0]['resources'] \n",
    "url_csv = resources[0]['url']\n",
    "url_json = resources[1]['url']\n",
    "dat = pd.read_csv(url_csv, sep = ';', decimal = ',')"
   ]
  },
  {
   "cell_type": "code",
   "execution_count": 3,
   "metadata": {},
   "outputs": [],
   "source": [
    "response = urlopen(url_json)\n",
    "meta = json.loads(response.read())"
   ]
  },
  {
   "cell_type": "markdown",
   "metadata": {},
   "source": [
    "## Datan ja metadatan kuvailu\n",
    "\n",
    "**Datan kuvaustieto**"
   ]
  },
  {
   "cell_type": "code",
   "execution_count": 34,
   "metadata": {},
   "outputs": [
    {
     "name": "stdout",
     "output_type": "stream",
     "text": [
      "sisältää tiedot Kelan maksamien etuuksien saajista, maksetuista etuuksista ja keskimääräisistä etuuksista (euroa/saaja). Raportti kattaa valtaosan Kelan maksamista etuuksista.\n",
      "Maksetuista etuuksista kuitenkin puuttuvat työnantajien järjestämästä työterveyshuollosta, yrittäjien työterveyshuollosta ja opiskelijoiden terveydenhuollosta maksetut korvaukset.\n",
      "Eläkkeistä, vammaisetuuksista, asumistuista ja elatustuesta ei tilastoida vuoden aikana etuutta saaneita henkilöitä eikä keskimääräisiä etuuksia. Näistä etuuksista tilastoidaan ainoastaan poikkileikkaushetken tiedot kuukausittain.\n",
      "Yleisen asumistuen tilastoinnissa saajien tilastoyksikkö on asumistuen ruokakunta, ja keskimääräinen etuus tilastoidaan asumistuen ruokakuntaa kohti.\n",
      "Opintolainavähennys on verovähennys, joten maksettua etuutta ei ole.\n",
      "Perustoimeentulotuen tilastoinnissa saajien tilastoyksikkö on toimeentulotuen kotitalous, ja keskimääräinen etuus tilastoidaan toimeentulotuen kotitaloutta kohti.\n",
      "\n"
     ]
    }
   ],
   "source": [
    "print(meta['description'])"
   ]
  },
  {
   "cell_type": "markdown",
   "metadata": {},
   "source": [
    "**Datan muuttujatieto**"
   ]
  },
  {
   "cell_type": "code",
   "execution_count": 4,
   "metadata": {},
   "outputs": [
    {
     "data": {
      "text/html": [
       "<div>\n",
       "<style scoped>\n",
       "    .dataframe tbody tr th:only-of-type {\n",
       "        vertical-align: middle;\n",
       "    }\n",
       "\n",
       "    .dataframe tbody tr th {\n",
       "        vertical-align: top;\n",
       "    }\n",
       "\n",
       "    .dataframe thead th {\n",
       "        text-align: right;\n",
       "    }\n",
       "</style>\n",
       "<table border=\"1\" class=\"dataframe\">\n",
       "  <thead>\n",
       "    <tr style=\"text-align: right;\">\n",
       "      <th></th>\n",
       "      <th>description</th>\n",
       "      <th>format</th>\n",
       "      <th>name</th>\n",
       "      <th>title</th>\n",
       "      <th>type</th>\n",
       "    </tr>\n",
       "  </thead>\n",
       "  <tbody>\n",
       "    <tr>\n",
       "      <th>0</th>\n",
       "      <td>Vuoden 2019 kuntajakoa vastaava kuntanumero</td>\n",
       "      <td>default</td>\n",
       "      <td>kuntanumero</td>\n",
       "      <td>Kuntanumero</td>\n",
       "      <td>integer</td>\n",
       "    </tr>\n",
       "    <tr>\n",
       "      <th>1</th>\n",
       "      <td>Vuoden 2019 kuntajakoa vastaava kuntanimi suom...</td>\n",
       "      <td>default</td>\n",
       "      <td>kunta</td>\n",
       "      <td>Kuntanimi</td>\n",
       "      <td>string</td>\n",
       "    </tr>\n",
       "    <tr>\n",
       "      <th>2</th>\n",
       "      <td>Vuosi</td>\n",
       "      <td>default</td>\n",
       "      <td>vuosi</td>\n",
       "      <td>Vuosi</td>\n",
       "      <td>integer</td>\n",
       "    </tr>\n",
       "    <tr>\n",
       "      <th>3</th>\n",
       "      <td>Etuus, yksi seuravista: Elatustuki, Eläke-etuu...</td>\n",
       "      <td>default</td>\n",
       "      <td>etuus</td>\n",
       "      <td>Etuus</td>\n",
       "      <td>string</td>\n",
       "    </tr>\n",
       "    <tr>\n",
       "      <th>4</th>\n",
       "      <td>Etuutta saaneiden määrä</td>\n",
       "      <td>default</td>\n",
       "      <td>saajat</td>\n",
       "      <td>Saajat</td>\n",
       "      <td>integer</td>\n",
       "    </tr>\n",
       "    <tr>\n",
       "      <th>5</th>\n",
       "      <td>Etuuden kuntatason summa</td>\n",
       "      <td>default</td>\n",
       "      <td>maksetut_etuudet_euroa</td>\n",
       "      <td>Maksetut etuudet Euroa</td>\n",
       "      <td>number</td>\n",
       "    </tr>\n",
       "    <tr>\n",
       "      <th>6</th>\n",
       "      <td>Etuuden saajakohtainen kuntatason keskiarvo</td>\n",
       "      <td>default</td>\n",
       "      <td>euroa_per_saaja</td>\n",
       "      <td>Euroa/saaja</td>\n",
       "      <td>number</td>\n",
       "    </tr>\n",
       "  </tbody>\n",
       "</table>\n",
       "</div>"
      ],
      "text/plain": [
       "                                         description   format  \\\n",
       "0        Vuoden 2019 kuntajakoa vastaava kuntanumero  default   \n",
       "1  Vuoden 2019 kuntajakoa vastaava kuntanimi suom...  default   \n",
       "2                                              Vuosi  default   \n",
       "3  Etuus, yksi seuravista: Elatustuki, Eläke-etuu...  default   \n",
       "4                            Etuutta saaneiden määrä  default   \n",
       "5                           Etuuden kuntatason summa  default   \n",
       "6        Etuuden saajakohtainen kuntatason keskiarvo  default   \n",
       "\n",
       "                     name                   title     type  \n",
       "0             kuntanumero             Kuntanumero  integer  \n",
       "1                   kunta               Kuntanimi   string  \n",
       "2                   vuosi                   Vuosi  integer  \n",
       "3                   etuus                   Etuus   string  \n",
       "4                  saajat                  Saajat  integer  \n",
       "5  maksetut_etuudet_euroa  Maksetut etuudet Euroa   number  \n",
       "6         euroa_per_saaja             Euroa/saaja   number  "
      ]
     },
     "execution_count": 4,
     "metadata": {},
     "output_type": "execute_result"
    }
   ],
   "source": [
    "json_normalize(meta['resources'][0]['schema']['fields'])"
   ]
  },
  {
   "cell_type": "markdown",
   "metadata": {},
   "source": [
    "**Datan ensimmäiset rivit**"
   ]
  },
  {
   "cell_type": "code",
   "execution_count": 57,
   "metadata": {},
   "outputs": [
    {
     "name": "stdout",
     "output_type": "stream",
     "text": [
      "   kuntanumero      kunta   vuosi      etuus  saajat maksetut_etuudet_euroa  \\\n",
      "0          5.0   Alajärvi  2007.0  Kuntoutus   210.0              495806,49   \n",
      "1          9.0  Alavieska  2007.0  Kuntoutus    41.0              143525,14   \n",
      "2         10.0     Alavus  2007.0  Kuntoutus   240.0              612924,31   \n",
      "3         16.0   Asikkala  2007.0  Kuntoutus   119.0              299270,66   \n",
      "4         18.0     Askola  2007.0  Kuntoutus    52.0              175090,15   \n",
      "\n",
      "  euroa_per_saaja  \n",
      "0       2360,9833  \n",
      "1       3500,6132  \n",
      "2       2553,8513  \n",
      "3       2514,8795  \n",
      "4       3367,1183  \n"
     ]
    }
   ],
   "source": [
    "print(dat.head())"
   ]
  },
  {
   "cell_type": "code",
   "execution_count": 82,
   "metadata": {},
   "outputs": [],
   "source": [
    "plotdat = (dat\n",
    " .query('vuosi == 2018')\n",
    " .query('etuus == \"Äitiysavustus\"')\n",
    " .sort_values(by='maksetut_etuudet_euroa', ascending=False)\n",
    " .head(20))\n",
    "\n",
    "#plt.bar(plotdat, height = )"
   ]
  },
  {
   "cell_type": "markdown",
   "metadata": {},
   "source": [
    "## Kuvio"
   ]
  },
  {
   "cell_type": "code",
   "execution_count": 83,
   "metadata": {},
   "outputs": [
    {
     "data": {
      "text/plain": [
       "<BarContainer object of 20 artists>"
      ]
     },
     "execution_count": 83,
     "metadata": {},
     "output_type": "execute_result"
    },
    {
     "data": {
      "image/png": "[encoded data removed]",
      "text/plain": [
       "<Figure size 432x288 with 1 Axes>"
      ]
     },
     "metadata": {
      "needs_background": "light"
     },
     "output_type": "display_data"
    }
   ],
   "source": [
    "plt.bar(plotdat['kunta'], plotdat['maksetut_etuudet_euroa'])"
   ]
  },
  {
   "cell_type": "markdown",
   "metadata": {},
   "source": [
    "## Datastore-api\n",
    "\n",
    "Jos et tarvitse koko aineistoa, voit suodattaa siitä osio SQL:llä käyttäen CKAN:n DataStore-rajapintaa.\n",
    "\n",
    "Alla olevassa esimerkissä tehdään rajaus `kunta`-muuttujasta ja siis etsitään vaan kuntaa *Veteli* koskevat tiedot."
   ]
  },
  {
   "cell_type": "code",
   "execution_count": 124,
   "metadata": {},
   "outputs": [
    {
     "name": "stdout",
     "output_type": "stream",
     "text": [
      "                                          _full_text  _id      etuus  \\\n",
      "0  '2007':3 '210':5 '2360':8 '49':7 '495806':6 '5...    1  Kuntoutus   \n",
      "1  '14':7 '143525':6 '2007':3 '3500':8 '41':5 '61...    2  Kuntoutus   \n",
      "2  '10':1 '2007':3 '240':5 '2553':8 '31':7 '61292...    3  Kuntoutus   \n",
      "3  '119':5 '16':1 '2007':3 '2514':8 '299270':6 '6...    4  Kuntoutus   \n",
      "4  '1183':9 '15':7 '175090':6 '18':1 '2007':3 '33...    5  Kuntoutus   \n",
      "\n",
      "  euroa_per_saaja      kunta kuntanumero maksetut_etuudet_euroa  saajat vuosi  \n",
      "0       2360,9833   Alajärvi           5              495806,49     210  2007  \n",
      "1       3500,6132  Alavieska           9              143525,14      41  2007  \n",
      "2       2553,8513     Alavus          10              612924,31     240  2007  \n",
      "3       2514,8795   Asikkala          16              299270,66     119  2007  \n",
      "4       3367,1183     Askola          18              175090,15      52  2007  \n"
     ]
    }
   ],
   "source": [
    "kunta = \"Veteli\"\n",
    "taulu = resources[0]['id']\n",
    "muuttuja = 'kunta'\n",
    "urli = f'https://beta.avoindata.fi/data/fi/data/api/3/action/datastore_search_sql?sql=SELECT * from \"{taulu}\" WHERE {muuttuja} LIKE \\'{kunta}\\''\n",
    "urli_plain = f'https://beta.avoindata.fi/data/fi/data/api/3/action/datastore_search_sql?sql=SELECT * from \"{taulu}\"'\n",
    "#urli = \"https://beta.avoindata.fi/data/fi/data/api/3/action/datastore_search_sql?sql=SELECT * from \\\"%s\\\" WHERE %s LIKE '%s'\" % (taulu, muuttuja, kunta)\n",
    "#urli_plain = \"https://beta.avoindata.fi/data/fi/data/api/3/action/datastore_search_sql?sql=SELECT * from \\\"%s\\\"\" % (taulu)\n",
    "response = urlopen(urli_plain)\n",
    "da = json.loads(response.read())\n",
    "dataa = json_normalize(da['result']['records'])\n",
    "#dataa\n",
    "print(dataa.head())"
   ]
  }
 ],
 "metadata": {
  "kernelspec": {
   "display_name": "Python 3",
   "language": "python",
   "name": "python3"
  },
  "language_info": {
   "codemirror_mode": {
    "name": "ipython",
    "version": 3
   },
   "file_extension": ".py",
   "mimetype": "text/x-python",
   "name": "python",
   "nbconvert_exporter": "python",
   "pygments_lexer": "ipython3",
   "version": "3.7.1"
  }
 },
 "nbformat": 4,
 "nbformat_minor": 2
}
